{
 "metadata": {
  "name": "",
  "signature": "sha256:f08ed3b4f11dc5955f90521cf80156e1ef940bdab3de3cbfb2ecb2a9ead707e0"
 },
 "nbformat": 3,
 "nbformat_minor": 0,
 "worksheets": [
  {
   "cells": [
    {
     "cell_type": "markdown",
     "metadata": {},
     "source": [
      "Below are some notes I've mostly taken from: [Scipy's Scientific Computing Lecture Notes](https://scipy-lectures.github.io/intro/language/reusing_code.html). I've placed them into this notebook format so that I can continously run/test/update them. "
     ]
    },
    {
     "cell_type": "heading",
     "level": 1,
     "metadata": {},
     "source": [
      "Notebook Setup"
     ]
    },
    {
     "cell_type": "markdown",
     "metadata": {},
     "source": [
      "**NOTE:** Please run the following cell before skipping to any section. **Do not** change it without knowing what you're doing."
     ]
    },
    {
     "cell_type": "code",
     "collapsed": false,
     "input": [
      "# load numpy\n",
      "import numpy as np\n",
      "\n",
      "# enable pylab - TODO: bad practice revist this\n",
      "%pylab inline\n",
      "\n",
      "# load data visualization\n",
      "import matplotlib.pyplot as plt  # the tidy way\n",
      "\n",
      "# load image processing\n",
      "from IPython.display import Image"
     ],
     "language": "python",
     "metadata": {},
     "outputs": [
      {
       "output_type": "stream",
       "stream": "stdout",
       "text": [
        "Populating the interactive namespace from numpy and matplotlib\n"
       ]
      }
     ],
     "prompt_number": 1
    },
    {
     "cell_type": "heading",
     "level": 1,
     "metadata": {},
     "source": [
      "The Scipy Stack"
     ]
    },
    {
     "cell_type": "markdown",
     "metadata": {},
     "source": [
      "Unlike Matlab, Scilab or R, Python does not come with a pre-bundled set of modules for scientific computing. Below are the basic building blocks that can be combined to obtain a scientific computing environment:\n",
      "\n",
      "* **Python**, a generic and modern computing language.\n",
      "    * Python language: data types (string, int), flow control, data collections (lists, dictionaries), patterns, etc.\n",
      "    * Modules of the standard library.\n",
      "    * A large number of specialized modules or applications written in Python: web protocols, web framework, etc. ... and scientific computing.\n",
      "    * Development tools (automatic testing, documentation generation)\n",
      "\n",
      "* **IPython**, an advanced Python shell http://ipython.scipy.org/\n",
      "\n",
      "* **Numpy** : provides powerful numerical arrays objects, and routines to manipulate them. http://www.numpy.org/\n",
      "\n",
      "* **Scipy** : high-level data processing routines. Optimization, regression, interpolation, etc http://www.scipy.org/\n",
      "\n",
      "* **Matplotlib** : 2-D visualization, \u201cpublication-ready\u201d plots http://matplotlib.sourceforge.net/\n",
      "\n",
      "* **Mayavi** : 3-D visualization http://code.enthought.com/projects/mayavi/\n",
      "\n",
      "\n",
      "Some tools for python development: \n",
      "\n",
      "* **IPython** : a *fantastic* way to work with/experiment with python. http://ipython.org/\n",
      "\n",
      "* **SublimeText** : my favorite text editor http://www.sublimetext.com/\n",
      "\n",
      "* **Spyder** : a MATLAB like IDE for working with python: https://code.google.com/p/spyderlib/"
     ]
    },
    {
     "cell_type": "heading",
     "level": 2,
     "metadata": {},
     "source": [
      "Scipy Stack on Windows"
     ]
    },
    {
     "cell_type": "markdown",
     "metadata": {},
     "source": [
      "To get the complete scipy stack on windows, I use Continuum's [Anaconda](https://store.continuum.io/cshop/anaconda/). It packages python 2.7 + numpy + scipy + spyder + etc. Pretty much everything you need! It even has several optimized libraries that are free with an academic license."
     ]
    },
    {
     "cell_type": "heading",
     "level": 2,
     "metadata": {},
     "source": [
      "Interactive Workflow"
     ]
    },
    {
     "cell_type": "markdown",
     "metadata": {},
     "source": [
      "Using Ipython for learning/experimenting/etc. is a great way to work with python. When you're done/ready for more advanced scripting/debugging, that can also be done in inside ipython, but also inside spyder/sublime and the console. IPython provided many beenfits over console python, and we will make use/explore them in this notebook. "
     ]
    },
    {
     "cell_type": "heading",
     "level": 1,
     "metadata": {},
     "source": [
      "The Python Language"
     ]
    },
    {
     "cell_type": "markdown",
     "metadata": {},
     "source": [
      "Python is a full programming language. Only the bare minimum necessary for getting started with Numpy and Scipy is addressed here. To learn more about the language, consider going through the excellent tutorial http://docs.python.org/tutorial. Dedicated books are also available, such as http://diveintopython.org/.\n",
      "\n",
      "Python is a programming language, as are C, Fortran, BASIC, PHP, etc. Some specific features of Python are as follows:\n",
      "\n",
      "*an interpreted (as opposed to compiled) language. Contrary to e.g. C or Fortran, one does not compile Python code before executing it. In addition, Python can be used interactively: many Python interpreters are available, from which commands and scripts can be executed.\n",
      "* a **free** software released under an open-source license: Python can be used and distributed free of charge, even for building commercial software.\n",
      "* **multi-platform**: Python is available for all major operating systems, Windows, Linux/Unix, MacOS X, most likely your mobile phone OS, etc.\n",
      "* a very readable language with clear non-verbose syntax\n",
      "* a language for which a large variety of high-quality packages are available for various applications, from web frameworks to scientific computing.\n",
      "* a language very easy to interface with other languages, in particular C and C++.\n",
      "* an object-oriented language, with dynamic typing (the same variable can contain objects of different types during the course of a program).\n",
      "\n",
      "See http://www.python.org/about/ for more information about distinguishing features of Python."
     ]
    },
    {
     "cell_type": "heading",
     "level": 2,
     "metadata": {},
     "source": [
      "Data Types"
     ]
    },
    {
     "cell_type": "code",
     "collapsed": false,
     "input": [
      "# integer\n",
      "1 + 1"
     ],
     "language": "python",
     "metadata": {},
     "outputs": [
      {
       "metadata": {},
       "output_type": "pyout",
       "prompt_number": 6,
       "text": [
        "2"
       ]
      }
     ],
     "prompt_number": 6
    },
    {
     "cell_type": "code",
     "collapsed": false,
     "input": [
      "# floats \n",
      "c = 2.1\n",
      "type(c)"
     ],
     "language": "python",
     "metadata": {},
     "outputs": [
      {
       "metadata": {},
       "output_type": "pyout",
       "prompt_number": 8,
       "text": [
        "float"
       ]
      }
     ],
     "prompt_number": 8
    },
    {
     "cell_type": "code",
     "collapsed": false,
     "input": [
      "# complex \n",
      "a = 1.5 + 0.5j\n",
      "type(a)"
     ],
     "language": "python",
     "metadata": {},
     "outputs": [
      {
       "metadata": {},
       "output_type": "pyout",
       "prompt_number": 10,
       "text": [
        "complex"
       ]
      }
     ],
     "prompt_number": 10
    },
    {
     "cell_type": "code",
     "collapsed": false,
     "input": [
      "a.real"
     ],
     "language": "python",
     "metadata": {},
     "outputs": [
      {
       "metadata": {},
       "output_type": "pyout",
       "prompt_number": 12,
       "text": [
        "1.5"
       ]
      }
     ],
     "prompt_number": 12
    },
    {
     "cell_type": "code",
     "collapsed": false,
     "input": [
      "a.imag"
     ],
     "language": "python",
     "metadata": {},
     "outputs": [
      {
       "metadata": {},
       "output_type": "pyout",
       "prompt_number": 15,
       "text": [
        "0.5"
       ]
      }
     ],
     "prompt_number": 15
    },
    {
     "cell_type": "code",
     "collapsed": false,
     "input": [
      "# bool\n",
      "test = (3 > 4)\n",
      "type(test)"
     ],
     "language": "python",
     "metadata": {},
     "outputs": [
      {
       "metadata": {},
       "output_type": "pyout",
       "prompt_number": 17,
       "text": [
        "bool"
       ]
      }
     ],
     "prompt_number": 17
    },
    {
     "cell_type": "code",
     "collapsed": false,
     "input": [
      "# becareful with integer division\n",
      "b = 3/2 # int division\n",
      "c = 3/2. # float\n",
      "b,c"
     ],
     "language": "python",
     "metadata": {},
     "outputs": [
      {
       "metadata": {},
       "output_type": "pyout",
       "prompt_number": 18,
       "text": [
        "(1, 1.5)"
       ]
      }
     ],
     "prompt_number": 18
    },
    {
     "cell_type": "code",
     "collapsed": false,
     "input": [
      "# explicit integer division\n",
      "3.4//2.1"
     ],
     "language": "python",
     "metadata": {},
     "outputs": [
      {
       "metadata": {},
       "output_type": "pyout",
       "prompt_number": 20,
       "text": [
        "1.0"
       ]
      }
     ],
     "prompt_number": 20
    },
    {
     "cell_type": "heading",
     "level": 2,
     "metadata": {},
     "source": [
      "Containers"
     ]
    },
    {
     "cell_type": "markdown",
     "metadata": {},
     "source": [
      "There are several types of containers in python: lists, strings, etc. They can be operated on directly, or through their object methods, or in the case of `numpy` arrays, `numpy` methods"
     ]
    },
    {
     "cell_type": "heading",
     "level": 3,
     "metadata": {},
     "source": [
      "Lists"
     ]
    },
    {
     "cell_type": "markdown",
     "metadata": {},
     "source": [
      "**Note:** Lists are *mutable* objects - they can be modified"
     ]
    },
    {
     "cell_type": "code",
     "collapsed": false,
     "input": [
      "# list = ordered collection of objects that can be of different types\n",
      "L = ['red',2,'blue']\n",
      "type(L)"
     ],
     "language": "python",
     "metadata": {},
     "outputs": [
      {
       "metadata": {},
       "output_type": "pyout",
       "prompt_number": 34,
       "text": [
        "list"
       ]
      }
     ],
     "prompt_number": 34
    },
    {
     "cell_type": "code",
     "collapsed": false,
     "input": [
      "# indexing lists\n",
      "L[2]"
     ],
     "language": "python",
     "metadata": {},
     "outputs": [
      {
       "metadata": {},
       "output_type": "pyout",
       "prompt_number": 35,
       "text": [
        "'blue'"
       ]
      }
     ],
     "prompt_number": 35
    },
    {
     "cell_type": "code",
     "collapsed": false,
     "input": [
      "# lists are mutable - they can be modified\n",
      "L[1] = 'orange'\n",
      "L"
     ],
     "language": "python",
     "metadata": {},
     "outputs": [
      {
       "metadata": {},
       "output_type": "pyout",
       "prompt_number": 36,
       "text": [
        "['red', 'orange', 'blue']"
       ]
      }
     ],
     "prompt_number": 36
    },
    {
     "cell_type": "markdown",
     "metadata": {},
     "source": [
      "**Note:** For collections of numerical data that all have the same type, it is often more efficient to use the array type provided by the `numpy` module. A NumPy array is a chunk of memory containing fixed-sized items. With NumPy arrays, operations on elements can be faster because elements are regularly spaced in memory and more operations are performed through specialized C functions instead of Python loops."
     ]
    },
    {
     "cell_type": "code",
     "collapsed": false,
     "input": [
      "# add to list\n",
      "L.append('pink')\n",
      "L"
     ],
     "language": "python",
     "metadata": {},
     "outputs": [
      {
       "metadata": {},
       "output_type": "pyout",
       "prompt_number": 39,
       "text": [
        "['red', 'orange', 'blue', 'pink', 'pink', 'pink']"
       ]
      }
     ],
     "prompt_number": 39
    },
    {
     "cell_type": "code",
     "collapsed": false,
     "input": [
      "# concatenante lists\n",
      "R = [2, 4, 6]\n",
      "L + R"
     ],
     "language": "python",
     "metadata": {},
     "outputs": [
      {
       "metadata": {},
       "output_type": "pyout",
       "prompt_number": 41,
       "text": [
        "['red', 'orange', 'blue', 'pink', 'pink', 'pink', 2, 4, 6]"
       ]
      }
     ],
     "prompt_number": 41
    },
    {
     "cell_type": "heading",
     "level": 3,
     "metadata": {},
     "source": [
      "Strings"
     ]
    },
    {
     "cell_type": "markdown",
     "metadata": {},
     "source": [
      "**Note:** Strings are *imutable* objects - once created they cant be modified, but new strings can be created from them."
     ]
    },
    {
     "cell_type": "code",
     "collapsed": false,
     "input": [
      "# different way to specify strings\n",
      "s = 'Hello, how are you?'\n",
      "s = \"Hi, what's up\"\n",
      "s = '''Hello,                 # tripling the quotes allows the\n",
      "       how are you'''         # the string to span more than one line\n",
      "s = \"\"\"Hi,\n",
      "what's up?\"\"\""
     ],
     "language": "python",
     "metadata": {},
     "outputs": [],
     "prompt_number": 42
    },
    {
     "cell_type": "code",
     "collapsed": false,
     "input": [
      "a = \"hello\"\n",
      "a[0]"
     ],
     "language": "python",
     "metadata": {},
     "outputs": [
      {
       "metadata": {},
       "output_type": "pyout",
       "prompt_number": 43,
       "text": [
        "'h'"
       ]
      }
     ],
     "prompt_number": 43
    },
    {
     "cell_type": "code",
     "collapsed": false,
     "input": [
      "# backward incrementing\n",
      "a[-1]"
     ],
     "language": "python",
     "metadata": {},
     "outputs": [
      {
       "metadata": {},
       "output_type": "pyout",
       "prompt_number": 3,
       "text": [
        "'o'"
       ]
      }
     ],
     "prompt_number": 3
    },
    {
     "cell_type": "code",
     "collapsed": false,
     "input": [
      "# start:end:incr\n",
      "a[1::2] "
     ],
     "language": "python",
     "metadata": {},
     "outputs": [
      {
       "metadata": {},
       "output_type": "pyout",
       "prompt_number": 4,
       "text": [
        "'el'"
       ]
      }
     ],
     "prompt_number": 4
    },
    {
     "cell_type": "code",
     "collapsed": false,
     "input": [
      "#string are immutable!\n",
      "a[1] = 'b' "
     ],
     "language": "python",
     "metadata": {},
     "outputs": [
      {
       "ename": "TypeError",
       "evalue": "'str' object does not support item assignment",
       "output_type": "pyerr",
       "traceback": [
        "\u001b[1;31m---------------------------------------------------------------------------\u001b[0m\n\u001b[1;31mTypeError\u001b[0m                                 Traceback (most recent call last)",
        "\u001b[1;32m<ipython-input-5-bb548594ff10>\u001b[0m in \u001b[0;36m<module>\u001b[1;34m()\u001b[0m\n\u001b[0;32m      1\u001b[0m \u001b[1;31m#string are immutable!\u001b[0m\u001b[1;33m\u001b[0m\u001b[1;33m\u001b[0m\u001b[0m\n\u001b[1;32m----> 2\u001b[1;33m \u001b[0ma\u001b[0m\u001b[1;33m[\u001b[0m\u001b[1;36m1\u001b[0m\u001b[1;33m]\u001b[0m \u001b[1;33m=\u001b[0m \u001b[1;34m'b'\u001b[0m\u001b[1;33m\u001b[0m\u001b[0m\n\u001b[0m",
        "\u001b[1;31mTypeError\u001b[0m: 'str' object does not support item assignment"
       ]
      }
     ],
     "prompt_number": 5
    },
    {
     "cell_type": "code",
     "collapsed": false,
     "input": [
      "# strings are first class objects - use methods\n",
      "a.replace('l','z')"
     ],
     "language": "python",
     "metadata": {},
     "outputs": [
      {
       "metadata": {},
       "output_type": "pyout",
       "prompt_number": 44,
       "text": [
        "'hezzo'"
       ]
      }
     ],
     "prompt_number": 44
    },
    {
     "cell_type": "heading",
     "level": 3,
     "metadata": {},
     "source": [
      "Dictionaries"
     ]
    },
    {
     "cell_type": "markdown",
     "metadata": {},
     "source": [
      "A dictionary is basically an efficient table that **maps** keys to values. It is an unordered container."
     ]
    },
    {
     "cell_type": "code",
     "collapsed": false,
     "input": [
      "tel = {'emmanuelle': 5752, 'sebastian': 5578}\n",
      "tel['francis'] = 5915\n",
      "tel"
     ],
     "language": "python",
     "metadata": {},
     "outputs": [
      {
       "metadata": {},
       "output_type": "pyout",
       "prompt_number": 46,
       "text": [
        "{'emmanuelle': 5752, 'francis': 5915, 'sebastian': 5578}"
       ]
      }
     ],
     "prompt_number": 46
    },
    {
     "cell_type": "code",
     "collapsed": false,
     "input": [
      "tel['sebastian']"
     ],
     "language": "python",
     "metadata": {},
     "outputs": [
      {
       "metadata": {},
       "output_type": "pyout",
       "prompt_number": 48,
       "text": [
        "5578"
       ]
      }
     ],
     "prompt_number": 48
    },
    {
     "cell_type": "code",
     "collapsed": false,
     "input": [
      "tel.keys()"
     ],
     "language": "python",
     "metadata": {},
     "outputs": [
      {
       "metadata": {},
       "output_type": "pyout",
       "prompt_number": 50,
       "text": [
        "['sebastian', 'francis', 'emmanuelle']"
       ]
      }
     ],
     "prompt_number": 50
    },
    {
     "cell_type": "code",
     "collapsed": false,
     "input": [
      "tel.values()"
     ],
     "language": "python",
     "metadata": {},
     "outputs": [
      {
       "metadata": {},
       "output_type": "pyout",
       "prompt_number": 52,
       "text": [
        "[5578, 5915, 5752]"
       ]
      }
     ],
     "prompt_number": 52
    },
    {
     "cell_type": "code",
     "collapsed": false,
     "input": [
      "'francis' in tel"
     ],
     "language": "python",
     "metadata": {},
     "outputs": [
      {
       "metadata": {},
       "output_type": "pyout",
       "prompt_number": 54,
       "text": [
        "True"
       ]
      }
     ],
     "prompt_number": 54
    },
    {
     "cell_type": "heading",
     "level": 3,
     "metadata": {},
     "source": [
      "Tuples"
     ]
    },
    {
     "cell_type": "markdown",
     "metadata": {},
     "source": [
      "These are **immutable** lists. The elements of a tuple are written between parentheses, or just separated by commas:"
     ]
    },
    {
     "cell_type": "code",
     "collapsed": false,
     "input": [
      "t = 12345, 321, 'hea'\n",
      "t"
     ],
     "language": "python",
     "metadata": {},
     "outputs": [
      {
       "metadata": {},
       "output_type": "pyout",
       "prompt_number": 58,
       "text": [
        "(12345, 321, 'hea')"
       ]
      }
     ],
     "prompt_number": 58
    },
    {
     "cell_type": "code",
     "collapsed": false,
     "input": [
      "t[1]"
     ],
     "language": "python",
     "metadata": {},
     "outputs": [
      {
       "metadata": {},
       "output_type": "pyout",
       "prompt_number": 59,
       "text": [
        "321"
       ]
      }
     ],
     "prompt_number": 59
    },
    {
     "cell_type": "heading",
     "level": 3,
     "metadata": {},
     "source": [
      "Sets"
     ]
    },
    {
     "cell_type": "markdown",
     "metadata": {},
     "source": [
      "These are **unordered** unique items"
     ]
    },
    {
     "cell_type": "code",
     "collapsed": false,
     "input": [
      "s = set(('a','b','c','a'))\n",
      "s"
     ],
     "language": "python",
     "metadata": {},
     "outputs": [
      {
       "metadata": {},
       "output_type": "pyout",
       "prompt_number": 62,
       "text": [
        "{'a', 'b', 'c'}"
       ]
      }
     ],
     "prompt_number": 62
    },
    {
     "cell_type": "code",
     "collapsed": false,
     "input": [
      "s.difference(('a','b'))"
     ],
     "language": "python",
     "metadata": {},
     "outputs": [
      {
       "metadata": {},
       "output_type": "pyout",
       "prompt_number": 64,
       "text": [
        "{'c'}"
       ]
      }
     ],
     "prompt_number": 64
    },
    {
     "cell_type": "heading",
     "level": 3,
     "metadata": {},
     "source": [
      "Further Notes"
     ]
    },
    {
     "cell_type": "markdown",
     "metadata": {},
     "source": [
      "There are other containers, methods, etc. not covered here. See the full python tutorial mentioned above! Also, for a good discussion of **mutable** vs **immutable** objects in python, see this article: [Types and Objects in Python](http://www.informit.com/articles/article.aspx?p=453682)"
     ]
    },
    {
     "cell_type": "heading",
     "level": 2,
     "metadata": {},
     "source": [
      "Control Flow"
     ]
    },
    {
     "cell_type": "markdown",
     "metadata": {},
     "source": [
      " **Note:** indentation is **respected** and **necessery** to specify control blocks. Python also has several interesting ways to iterate over sequences!"
     ]
    },
    {
     "cell_type": "code",
     "collapsed": false,
     "input": [
      "if b == 4:\n",
      "    print(1)\n",
      "    print(2)\n",
      "else:\n",
      "    print(3)\n",
      "print(5)"
     ],
     "language": "python",
     "metadata": {},
     "outputs": [
      {
       "output_type": "stream",
       "stream": "stdout",
       "text": [
        "3\n",
        "5\n"
       ]
      }
     ],
     "prompt_number": 8
    },
    {
     "cell_type": "code",
     "collapsed": false,
     "input": [
      "vowels = 'aeiouy'  # iterate over any sequence\n",
      "for i in 'powerful':\n",
      "    if i in vowels:\n",
      "        print(i),"
     ],
     "language": "python",
     "metadata": {},
     "outputs": [
      {
       "output_type": "stream",
       "stream": "stdout",
       "text": [
        "o e u\n"
       ]
      }
     ],
     "prompt_number": 66
    },
    {
     "cell_type": "markdown",
     "metadata": {},
     "source": [
      "**Note:** it is **not** safe to modify the sequece you're iterating over"
     ]
    },
    {
     "cell_type": "code",
     "collapsed": false,
     "input": [
      "# Enumarting in python\n",
      "words = ('cool', 'powerful', 'readable')\n",
      "for index, item in enumerate(words):\n",
      "    print index, item"
     ],
     "language": "python",
     "metadata": {},
     "outputs": [
      {
       "output_type": "stream",
       "stream": "stdout",
       "text": [
        "0 cool\n",
        "1 powerful\n",
        "2 readable\n"
       ]
      }
     ],
     "prompt_number": 10
    },
    {
     "cell_type": "code",
     "collapsed": false,
     "input": [
      "# square i in that list\n",
      "[i**2 for i in range(4)] "
     ],
     "language": "python",
     "metadata": {},
     "outputs": [
      {
       "metadata": {},
       "output_type": "pyout",
       "prompt_number": 11,
       "text": [
        "[0, 1, 4, 9]"
       ]
      }
     ],
     "prompt_number": 11
    },
    {
     "cell_type": "heading",
     "level": 2,
     "metadata": {},
     "source": [
      "Functions"
     ]
    },
    {
     "cell_type": "markdown",
     "metadata": {},
     "source": [
      "Functions are **first class** objects in python meaining we can:\n",
      "* assign them to a variable\n",
      "* an item or a list (any collection)\n",
      "* passed as an argument to another function"
     ]
    },
    {
     "cell_type": "code",
     "collapsed": false,
     "input": [
      "# Defining Functions\n",
      "def disk_area(radius):\n",
      "    return 3.14*radius**2\n",
      "disk_area(1)"
     ],
     "language": "python",
     "metadata": {},
     "outputs": [
      {
       "metadata": {},
       "output_type": "pyout",
       "prompt_number": 12,
       "text": [
        "3.14"
       ]
      }
     ],
     "prompt_number": 12
    },
    {
     "cell_type": "code",
     "collapsed": false,
     "input": [
      "# default parameter values\n",
      "def calc_area(radius=1):\n",
      "    return 3.14*radius**2\n",
      "a = calc_area()\n",
      "b = calc_area(2)\n",
      "a,b"
     ],
     "language": "python",
     "metadata": {},
     "outputs": [
      {
       "metadata": {},
       "output_type": "pyout",
       "prompt_number": 13,
       "text": [
        "(3.14, 12.56)"
       ]
      }
     ],
     "prompt_number": 13
    },
    {
     "cell_type": "markdown",
     "metadata": {},
     "source": [
      "**Note: Default values are evaluated when the function is defined, not when it is called.** This can be problematic  when using mutable types (e.g. dictionary or list) and modifying them in the function body, since the modifications  will be persistent across invocations of the function. "
     ]
    },
    {
     "cell_type": "code",
     "collapsed": false,
     "input": [
      "# Using an immutable type in a keyword argument:\n",
      "bigx = 10\n",
      "\n",
      "def double_it(x=bigx):\n",
      "    return x * 2\n",
      "\n",
      "a = double_it()\n",
      "bigx = 1e9  # Now really big\n",
      "b = double_it()\n",
      "a,b"
     ],
     "language": "python",
     "metadata": {},
     "outputs": [
      {
       "metadata": {},
       "output_type": "pyout",
       "prompt_number": 14,
       "text": [
        "(20, 20)"
       ]
      }
     ],
     "prompt_number": 14
    },
    {
     "cell_type": "code",
     "collapsed": false,
     "input": [
      "# Using an mutable type in a keyword argument (and modifying it inside the function body):\n",
      "def add_to_dict(args={'a': 1, 'b': 2}):\n",
      "    for i in args.keys():\n",
      "        args[i] += 1\n",
      "        print 'args: ', args"
     ],
     "language": "python",
     "metadata": {},
     "outputs": [],
     "prompt_number": 15
    },
    {
     "cell_type": "code",
     "collapsed": false,
     "input": [
      "add_to_dict()"
     ],
     "language": "python",
     "metadata": {},
     "outputs": [
      {
       "output_type": "stream",
       "stream": "stdout",
       "text": [
        "args:  {'a': 2, 'b': 2}\n",
        "args:  {'a': 2, 'b': 3}\n"
       ]
      }
     ],
     "prompt_number": 16
    },
    {
     "cell_type": "code",
     "collapsed": false,
     "input": [
      "add_to_dict()"
     ],
     "language": "python",
     "metadata": {},
     "outputs": [
      {
       "output_type": "stream",
       "stream": "stdout",
       "text": [
        "args:  {'a': 3, 'b': 3}\n",
        "args:  {'a': 3, 'b': 4}\n"
       ]
      }
     ],
     "prompt_number": 17
    },
    {
     "cell_type": "code",
     "collapsed": false,
     "input": [
      "# variable number of parameters\n",
      "def variable_args(*args, **kwargs):\n",
      "    print 'args is', args\n",
      "    print 'kwargs is', kwargs\n",
      "\n",
      "variable_args('one', 'two', x=1, y=2, z=3)"
     ],
     "language": "python",
     "metadata": {},
     "outputs": [
      {
       "output_type": "stream",
       "stream": "stdout",
       "text": [
        "args is ('one', 'two')\n",
        "kwargs is {'y': 2, 'x': 1, 'z': 3}\n"
       ]
      }
     ],
     "prompt_number": 18
    },
    {
     "cell_type": "code",
     "collapsed": false,
     "input": [
      "va = variable_args\n",
      "va('three', x=10, y=20)"
     ],
     "language": "python",
     "metadata": {},
     "outputs": [
      {
       "ename": "NameError",
       "evalue": "name 'variable_args' is not defined",
       "output_type": "pyerr",
       "traceback": [
        "\u001b[1;31m---------------------------------------------------------------------------\u001b[0m\n\u001b[1;31mNameError\u001b[0m                                 Traceback (most recent call last)",
        "\u001b[1;32m<ipython-input-67-1d2d2a04eb66>\u001b[0m in \u001b[0;36m<module>\u001b[1;34m()\u001b[0m\n\u001b[1;32m----> 1\u001b[1;33m \u001b[0mva\u001b[0m \u001b[1;33m=\u001b[0m \u001b[0mvariable_args\u001b[0m\u001b[1;33m\u001b[0m\u001b[0m\n\u001b[0m\u001b[0;32m      2\u001b[0m \u001b[0mva\u001b[0m\u001b[1;33m(\u001b[0m\u001b[1;34m'three'\u001b[0m\u001b[1;33m,\u001b[0m \u001b[0mx\u001b[0m\u001b[1;33m=\u001b[0m\u001b[1;36m10\u001b[0m\u001b[1;33m,\u001b[0m \u001b[0my\u001b[0m\u001b[1;33m=\u001b[0m\u001b[1;36m20\u001b[0m\u001b[1;33m)\u001b[0m\u001b[1;33m\u001b[0m\u001b[0m\n",
        "\u001b[1;31mNameError\u001b[0m: name 'variable_args' is not defined"
       ]
      }
     ],
     "prompt_number": 67
    },
    {
     "cell_type": "code",
     "collapsed": false,
     "input": [
      "# Docstrings\n",
      "def funcname(params):\n",
      "    \"\"\"Concise one-line sentence describing the function.\n",
      "\n",
      "    Extended summary which can contain multiple paragraphs.\n",
      "    \"\"\"\n",
      "    # function body\n",
      "    pass"
     ],
     "language": "python",
     "metadata": {},
     "outputs": [],
     "prompt_number": 68
    },
    {
     "cell_type": "code",
     "collapsed": false,
     "input": [
      "funcname?"
     ],
     "language": "python",
     "metadata": {},
     "outputs": [],
     "prompt_number": 69
    },
    {
     "cell_type": "heading",
     "level": 2,
     "metadata": {},
     "source": [
      "Scripts/Modules/Programs"
     ]
    },
    {
     "cell_type": "markdown",
     "metadata": {},
     "source": [
      "The '%' character is a special ipython command. The command below runs an *external* script."
     ]
    },
    {
     "cell_type": "code",
     "collapsed": false,
     "input": [
      "%run simplescript.py"
     ],
     "language": "python",
     "metadata": {},
     "outputs": [
      {
       "output_type": "stream",
       "stream": "stdout",
       "text": [
        "Hello\n",
        "how\n",
        "are\n",
        "you?\n"
       ]
      }
     ],
     "prompt_number": 20
    },
    {
     "cell_type": "code",
     "collapsed": false,
     "input": [
      "# script variables also added to ipython workspace\n",
      "message"
     ],
     "language": "python",
     "metadata": {},
     "outputs": [
      {
       "metadata": {},
       "output_type": "pyout",
       "prompt_number": 21,
       "text": [
        "'Hello how are you?'"
       ]
      }
     ],
     "prompt_number": 21
    },
    {
     "cell_type": "markdown",
     "metadata": {},
     "source": [
      "**Note:** Scripts can also take in command line arguments - see simplescript"
     ]
    },
    {
     "cell_type": "code",
     "collapsed": false,
     "input": [
      "# importing\n",
      "import os\n",
      "os"
     ],
     "language": "python",
     "metadata": {},
     "outputs": [
      {
       "metadata": {},
       "output_type": "pyout",
       "prompt_number": 22,
       "text": [
        "<module 'os' from 'C:\\Anaconda\\lib\\os.pyc'>"
       ]
      }
     ],
     "prompt_number": 22
    },
    {
     "cell_type": "code",
     "collapsed": false,
     "input": [
      "# list directory contents\n",
      "os.listdir('.')"
     ],
     "language": "python",
     "metadata": {},
     "outputs": [
      {
       "metadata": {},
       "output_type": "pyout",
       "prompt_number": 23,
       "text": [
        "['.ipynb_checkpoints',\n",
        " 'admm.py',\n",
        " 'Introduction to Python Notebook.ipynb',\n",
        " 'simplescript.py']"
       ]
      }
     ],
     "prompt_number": 23
    },
    {
     "cell_type": "code",
     "collapsed": false,
     "input": [
      "# importing submodules\n",
      "from os import listdir"
     ],
     "language": "python",
     "metadata": {},
     "outputs": [],
     "prompt_number": 24
    },
    {
     "cell_type": "code",
     "collapsed": false,
     "input": [
      "# shorthand importing\n",
      "np.linspace(0,10,6)"
     ],
     "language": "python",
     "metadata": {},
     "outputs": [
      {
       "metadata": {},
       "output_type": "pyout",
       "prompt_number": 25,
       "text": [
        "array([  0.,   2.,   4.,   6.,   8.,  10.])"
       ]
      }
     ],
     "prompt_number": 25
    },
    {
     "cell_type": "code",
     "collapsed": false,
     "input": [
      "# star imports - usually bad practice\n",
      "from os import *"
     ],
     "language": "python",
     "metadata": {},
     "outputs": [],
     "prompt_number": 26
    },
    {
     "cell_type": "markdown",
     "metadata": {},
     "source": [
      "**Note:** Rule of thumb:\n",
      "* Sets of instructions that are called several times should be written inside **functions** for better code reusability.\n",
      "* Functions (or other bits of code) that are called from several scripts should be written inside a **module**, so that only the module is imported in the different scripts (do not copy-and-paste your functions in the different scripts!).\n",
      "\n",
      "Ideally, youd modify the system variable `PYTHONPATH` and keep all of your modules in there"
     ]
    },
    {
     "cell_type": "heading",
     "level": 1,
     "metadata": {},
     "source": [
      "NumPy"
     ]
    },
    {
     "cell_type": "markdown",
     "metadata": {},
     "source": [
      "NumPy is the fundamental package for scientific computing with Python.\n",
      "\n",
      "**Python:** \n",
      "* high-level number objects: integers, floating point\n",
      "* containers: lists (costless insertion and append), dictionaries (fast lookup)\n",
      "\n",
      "**Numpy:**\n",
      "* extension package to Python for multi-dimensional arrays\n",
      "* closer to hardware (efficiency)\n",
      "* designed for scientific computation (convenience)\n",
      "* Also known as array oriented computing"
     ]
    },
    {
     "cell_type": "heading",
     "level": 2,
     "metadata": {},
     "source": [
      "Numpy Arrays"
     ]
    },
    {
     "cell_type": "code",
     "collapsed": false,
     "input": [
      "a = np.array([0,1,2,3])\n",
      "a"
     ],
     "language": "python",
     "metadata": {},
     "outputs": [
      {
       "metadata": {},
       "output_type": "pyout",
       "prompt_number": 27,
       "text": [
        "array([0, 1, 2, 3])"
       ]
      }
     ],
     "prompt_number": 27
    },
    {
     "cell_type": "code",
     "collapsed": false,
     "input": [
      "# old way \n",
      "L = range(1000)\n",
      "%timeit [i**2 for i in L]"
     ],
     "language": "python",
     "metadata": {},
     "outputs": [
      {
       "output_type": "stream",
       "stream": "stdout",
       "text": [
        "10000 loops, best of 3: 66.2 \u00b5s per loop\n"
       ]
      }
     ],
     "prompt_number": 28
    },
    {
     "cell_type": "code",
     "collapsed": false,
     "input": [
      "# memory and computation efficient using numpy\n",
      "a = np.arange(1000)\n",
      "%timeit a**2"
     ],
     "language": "python",
     "metadata": {},
     "outputs": [
      {
       "output_type": "stream",
       "stream": "stdout",
       "text": [
        "100000 loops, best of 3: 2.03 \u00b5s per loop\n"
       ]
      }
     ],
     "prompt_number": 29
    },
    {
     "cell_type": "code",
     "collapsed": false,
     "input": [
      "# access documentation - popup\n",
      "np.array?"
     ],
     "language": "python",
     "metadata": {},
     "outputs": [],
     "prompt_number": 30
    },
    {
     "cell_type": "code",
     "collapsed": false,
     "input": [
      "# search numpy\n",
      "np.lookfor('create array')"
     ],
     "language": "python",
     "metadata": {},
     "outputs": [
      {
       "output_type": "stream",
       "stream": "stdout",
       "text": [
        "Search results for 'create array'\n",
        "---------------------------------\n",
        "numpy.array\n",
        "    Create an array.\n",
        "numpy.memmap\n",
        "    Create a memory-map to an array stored in a *binary* file on disk.\n",
        "numpy.diagflat\n",
        "    Create a two-dimensional array with the flattened input as a diagonal.\n",
        "numpy.fromiter\n",
        "    Create a new 1-dimensional array from an iterable object.\n",
        "numpy.partition\n",
        "    Return a partitioned copy of an array.\n",
        "numpy.ma.diagflat\n",
        "    Create a two-dimensional array with the flattened input as a diagonal.\n",
        "numpy.ctypeslib.as_array\n",
        "    Create a numpy array from a ctypes array or a ctypes POINTER.\n",
        "numpy.ma.make_mask\n",
        "    Create a boolean mask from an array.\n",
        "numpy.ctypeslib.as_ctypes\n",
        "    Create and return a ctypes object from a numpy array.  Actually\n",
        "numpy.ma.mrecords.fromarrays\n",
        "    Creates a mrecarray from a (flat) list of masked arrays.\n",
        "numpy.lib.format.open_memmap\n",
        "    Open a .npy file as a memory-mapped array.\n",
        "numpy.ma.MaskedArray.__new__\n",
        "    Create a new masked array from scratch.\n",
        "numpy.lib.arrayterator.Arrayterator\n",
        "    Buffered iterator for big arrays.\n",
        "numpy.ma.mrecords.fromtextfile\n",
        "    Creates a mrecarray from data stored in the file `filename`.\n",
        "numpy.oldnumeric.ma.fromfunction\n",
        "    apply f to s to create array as in umath.\n",
        "numpy.oldnumeric.ma.masked_object\n",
        "    Create array masked where exactly data equal to value\n",
        "numpy.oldnumeric.ma.masked_values\n",
        "    Create a masked array; mask is nomask if possible.\n",
        "numpy.asarray\n",
        "    Convert the input to an array.\n",
        "numpy.ndarray\n",
        "    ndarray(shape, dtype=float, buffer=None, offset=0,\n",
        "numpy.recarray\n",
        "    Construct an ndarray that allows field access using attributes.\n",
        "numpy.chararray\n",
        "    chararray(shape, itemsize=1, unicode=False, buffer=None, offset=0,\n",
        "numpy.pad\n",
        "    Pads an array.\n",
        "numpy.sum\n",
        "    Sum of array elements over a given axis.\n",
        "numpy.asanyarray\n",
        "    Convert the input to an ndarray, but pass ndarray subclasses through.\n",
        "numpy.copy\n",
        "    Return an array copy of the given object.\n",
        "numpy.diag\n",
        "    Extract a diagonal or construct a diagonal array.\n",
        "numpy.load\n",
        "    Load an array(s) or pickled objects from .npy, .npz, or pickled files.\n",
        "numpy.sort\n",
        "    Return a sorted copy of an array.\n",
        "numpy.array_equiv\n",
        "    Returns True if input arrays are shape consistent and all elements equal.\n",
        "numpy.dtype\n",
        "    Create a data type object.\n",
        "numpy.choose\n",
        "    Construct an array from an index array and a set of arrays to choose from.\n",
        "numpy.nditer\n",
        "    Efficient multi-dimensional iterator object to iterate over arrays.\n",
        "numpy.swapaxes\n",
        "    Interchange two axes of an array.\n",
        "numpy.full_like\n",
        "    Return a full array with the same shape and type as a given array.\n",
        "numpy.ones_like\n",
        "    Return an array of ones with the same shape and type as a given array.\n",
        "numpy.empty_like\n",
        "    Return a new array with the same shape and type as a given array.\n",
        "numpy.zeros_like\n",
        "    Return an array of zeros with the same shape and type as a given array.\n",
        "numpy.asarray_chkfinite\n",
        "    Convert the input to an array, checking for NaNs or Infs.\n",
        "numpy.diag_indices\n",
        "    Return the indices to access the main diagonal of an array.\n",
        "numpy.ma.choose\n",
        "    Use an index array to construct a new array from a set of choices.\n",
        "numpy.chararray.tolist\n",
        "    a.tolist()\n",
        "numpy.matlib.rand\n",
        "    Return a matrix of random values with given shape.\n",
        "numpy.savez_compressed\n",
        "    Save several arrays into a single file in compressed ``.npz`` format.\n",
        "numpy.ma.empty_like\n",
        "    Return a new array with the same shape and type as a given array.\n",
        "numpy.ma.make_mask_none\n",
        "    Return a boolean mask of the given shape, filled with False.\n",
        "numpy.ma.mrecords.fromrecords\n",
        "    Creates a MaskedRecords from a list of records.\n",
        "numpy.around\n",
        "    Evenly round to the given number of decimals.\n",
        "numpy.source\n",
        "    Print or write to a file the source code for a Numpy object.\n",
        "numpy.diagonal\n",
        "    Return specified diagonals.\n",
        "numpy.histogram2d\n",
        "    Compute the bi-dimensional histogram of two data samples.\n",
        "numpy.fft.ifft\n",
        "    Compute the one-dimensional inverse discrete Fourier Transform.\n",
        "numpy.fft.ifftn\n",
        "    Compute the N-dimensional inverse discrete Fourier Transform.\n",
        "numpy.busdaycalendar\n",
        "    A business day calendar object that efficiently stores information"
       ]
      }
     ],
     "prompt_number": 31
    },
    {
     "cell_type": "code",
     "collapsed": false,
     "input": [
      "# wildcard search\n",
      "np.con*?"
     ],
     "language": "python",
     "metadata": {},
     "outputs": [],
     "prompt_number": 32
    },
    {
     "cell_type": "code",
     "collapsed": false,
     "input": [
      "# 1D array\n",
      "a = np.array([0,1,2,3])\n",
      "print a.ndim\n",
      "print a.shape"
     ],
     "language": "python",
     "metadata": {},
     "outputs": [
      {
       "output_type": "stream",
       "stream": "stdout",
       "text": [
        "1\n",
        "(4L,)\n"
       ]
      }
     ],
     "prompt_number": 33
    },
    {
     "cell_type": "code",
     "collapsed": false,
     "input": [
      "# 2D\n",
      "b = np.array([[0, 1, 2] , [3, 4, 5]])\n",
      "print b.ndim\n",
      "print b.shape"
     ],
     "language": "python",
     "metadata": {},
     "outputs": [
      {
       "output_type": "stream",
       "stream": "stdout",
       "text": [
        "2\n",
        "(2L, 3L)\n"
       ]
      }
     ],
     "prompt_number": 34
    },
    {
     "cell_type": "code",
     "collapsed": false,
     "input": [
      "# 3D\n",
      "c = np.array([[[1], [2]], [[3], [4]]])\n",
      "c"
     ],
     "language": "python",
     "metadata": {},
     "outputs": [
      {
       "metadata": {},
       "output_type": "pyout",
       "prompt_number": 35,
       "text": [
        "array([[[1],\n",
        "        [2]],\n",
        "\n",
        "       [[3],\n",
        "        [4]]])"
       ]
      }
     ],
     "prompt_number": 35
    },
    {
     "cell_type": "code",
     "collapsed": false,
     "input": [
      "c.shape"
     ],
     "language": "python",
     "metadata": {},
     "outputs": [
      {
       "metadata": {},
       "output_type": "pyout",
       "prompt_number": 36,
       "text": [
        "(2L, 2L, 1L)"
       ]
      }
     ],
     "prompt_number": 36
    },
    {
     "cell_type": "code",
     "collapsed": false,
     "input": [
      "# creating arrays\n",
      "a = np.arange(10)\n",
      "a"
     ],
     "language": "python",
     "metadata": {},
     "outputs": [
      {
       "metadata": {},
       "output_type": "pyout",
       "prompt_number": 37,
       "text": [
        "array([0, 1, 2, 3, 4, 5, 6, 7, 8, 9])"
       ]
      }
     ],
     "prompt_number": 37
    },
    {
     "cell_type": "code",
     "collapsed": false,
     "input": [
      "b = np.arange(1,9,2)\n",
      "b"
     ],
     "language": "python",
     "metadata": {},
     "outputs": [
      {
       "metadata": {},
       "output_type": "pyout",
       "prompt_number": 38,
       "text": [
        "array([1, 3, 5, 7])"
       ]
      }
     ],
     "prompt_number": 38
    },
    {
     "cell_type": "code",
     "collapsed": false,
     "input": [
      "c = np.linspace(0,1,6) # start,stop,number of points\n",
      "c"
     ],
     "language": "python",
     "metadata": {},
     "outputs": [
      {
       "metadata": {},
       "output_type": "pyout",
       "prompt_number": 74,
       "text": [
        "array([ 0. ,  0.2,  0.4,  0.6,  0.8,  1. ])"
       ]
      }
     ],
     "prompt_number": 74
    },
    {
     "cell_type": "code",
     "collapsed": false,
     "input": [
      "a = np.ones((3,3)) # note the strange way to enter it! (3,3) is entered as a tuple!\n",
      "a"
     ],
     "language": "python",
     "metadata": {},
     "outputs": [
      {
       "metadata": {},
       "output_type": "pyout",
       "prompt_number": 40,
       "text": [
        "array([[ 1.,  1.,  1.],\n",
        "       [ 1.,  1.,  1.],\n",
        "       [ 1.,  1.,  1.]])"
       ]
      }
     ],
     "prompt_number": 40
    },
    {
     "cell_type": "code",
     "collapsed": false,
     "input": [
      "b = np.zeros((2,2))\n",
      "b"
     ],
     "language": "python",
     "metadata": {},
     "outputs": [
      {
       "metadata": {},
       "output_type": "pyout",
       "prompt_number": 41,
       "text": [
        "array([[ 0.,  0.],\n",
        "       [ 0.,  0.]])"
       ]
      }
     ],
     "prompt_number": 41
    },
    {
     "cell_type": "code",
     "collapsed": false,
     "input": [
      "c = np.eye(3)\n",
      "c"
     ],
     "language": "python",
     "metadata": {},
     "outputs": [
      {
       "metadata": {},
       "output_type": "pyout",
       "prompt_number": 42,
       "text": [
        "array([[ 1.,  0.,  0.],\n",
        "       [ 0.,  1.,  0.],\n",
        "       [ 0.,  0.,  1.]])"
       ]
      }
     ],
     "prompt_number": 42
    },
    {
     "cell_type": "code",
     "collapsed": false,
     "input": [
      "d = np.diag(np.array([0,1,2,3]))\n",
      "d"
     ],
     "language": "python",
     "metadata": {},
     "outputs": [
      {
       "metadata": {},
       "output_type": "pyout",
       "prompt_number": 43,
       "text": [
        "array([[0, 0, 0, 0],\n",
        "       [0, 1, 0, 0],\n",
        "       [0, 0, 2, 0],\n",
        "       [0, 0, 0, 3]])"
       ]
      }
     ],
     "prompt_number": 43
    },
    {
     "cell_type": "code",
     "collapsed": false,
     "input": [
      "np.random.rand(4,2) # uniform [0,1]"
     ],
     "language": "python",
     "metadata": {},
     "outputs": [
      {
       "metadata": {},
       "output_type": "pyout",
       "prompt_number": 44,
       "text": [
        "array([[ 0.77770192,  0.93642023],\n",
        "       [ 0.56260302,  0.10846608],\n",
        "       [ 0.91764116,  0.26612719],\n",
        "       [ 0.76468384,  0.38697093]])"
       ]
      }
     ],
     "prompt_number": 44
    },
    {
     "cell_type": "code",
     "collapsed": false,
     "input": [
      "np.random.randn(5)"
     ],
     "language": "python",
     "metadata": {},
     "outputs": [
      {
       "metadata": {},
       "output_type": "pyout",
       "prompt_number": 45,
       "text": [
        "array([ 0.59944112, -0.43967818, -0.02877916, -0.22335545,  1.12393924])"
       ]
      }
     ],
     "prompt_number": 45
    },
    {
     "cell_type": "code",
     "collapsed": false,
     "input": [
      "# complex\n",
      "np.array([1+2j, 3+4j])"
     ],
     "language": "python",
     "metadata": {},
     "outputs": [
      {
       "metadata": {},
       "output_type": "pyout",
       "prompt_number": 50,
       "text": [
        "array([ 1.+2.j,  3.+4.j])"
       ]
      }
     ],
     "prompt_number": 50
    },
    {
     "cell_type": "code",
     "collapsed": false,
     "input": [
      "# strings\n",
      "np.array(['Bonjour', 'hello'])"
     ],
     "language": "python",
     "metadata": {},
     "outputs": [
      {
       "metadata": {},
       "output_type": "pyout",
       "prompt_number": 49,
       "text": [
        "array(['Bonjour', 'hello'], \n",
        "      dtype='|S7')"
       ]
      }
     ],
     "prompt_number": 49
    },
    {
     "cell_type": "code",
     "collapsed": false,
     "input": [
      "# load data visualization\n",
      "import matplotlib.pyplot as plt  # the tidy way"
     ],
     "language": "python",
     "metadata": {},
     "outputs": [],
     "prompt_number": 2
    },
    {
     "cell_type": "code",
     "collapsed": false,
     "input": [
      "a = np.linspace(1,10,10)\n",
      "b = np.linspace(2,20,10)\n",
      "plt.plot(a,b,'o') # points\n",
      "plt.plot(a,b) # line (matlab's \"hold\" seems to already be active? not sure if this is only an ipython thing)"
     ],
     "language": "python",
     "metadata": {},
     "outputs": [
      {
       "metadata": {},
       "output_type": "pyout",
       "prompt_number": 87,
       "text": [
        "[<matplotlib.lines.Line2D at 0x8b4e240>]"
       ]
      },
      {
       "metadata": {},
       "output_type": "display_data",
       "png": "[encoded data removed]",
       "text": [
        "<matplotlib.figure.Figure at 0x8b4ec88>"
       ]
      }
     ],
     "prompt_number": 87
    },
    {
     "cell_type": "code",
     "collapsed": false,
     "input": [
      "image = np.random.rand(30, 30)\n",
      "plt.imshow(image, cmap=plt.cm.hot)    \n",
      "plt.colorbar()    "
     ],
     "language": "python",
     "metadata": {},
     "outputs": [
      {
       "metadata": {},
       "output_type": "pyout",
       "prompt_number": 88,
       "text": [
        "<matplotlib.colorbar.Colorbar instance at 0x0000000009632108>"
       ]
      },
      {
       "metadata": {},
       "output_type": "display_data",
       "png": "[encoded data removed]",
       "text": [
        "<matplotlib.figure.Figure at 0x901d080>"
       ]
      }
     ],
     "prompt_number": 88
    },
    {
     "cell_type": "code",
     "collapsed": false,
     "input": [
      "# indexing and slicing\n",
      "a = np.arange(10)\n",
      "a"
     ],
     "language": "python",
     "metadata": {},
     "outputs": [
      {
       "metadata": {},
       "output_type": "pyout",
       "prompt_number": 90,
       "text": [
        "array([0, 1, 2, 3, 4, 5, 6, 7, 8, 9])"
       ]
      }
     ],
     "prompt_number": 90
    },
    {
     "cell_type": "code",
     "collapsed": false,
     "input": [
      "a[0],a[2],a[-1]"
     ],
     "language": "python",
     "metadata": {},
     "outputs": [
      {
       "metadata": {},
       "output_type": "pyout",
       "prompt_number": 91,
       "text": [
        "(0, 2, 9)"
       ]
      }
     ],
     "prompt_number": 91
    },
    {
     "cell_type": "code",
     "collapsed": false,
     "input": [
      "# reversing an array\n",
      "a[::-1] # go from start to end by -1"
     ],
     "language": "python",
     "metadata": {},
     "outputs": [
      {
       "metadata": {},
       "output_type": "pyout",
       "prompt_number": 95,
       "text": [
        "array([9, 8, 7, 6, 5, 4, 3, 2, 1, 0])"
       ]
      }
     ],
     "prompt_number": 95
    },
    {
     "cell_type": "code",
     "collapsed": false,
     "input": [
      "# multidimensional arrays are tuples of ints\n",
      "a = np.random.rand(3,3) # notice there is no tuple size specification here! strange!\n",
      "a"
     ],
     "language": "python",
     "metadata": {},
     "outputs": [
      {
       "metadata": {},
       "output_type": "pyout",
       "prompt_number": 110,
       "text": [
        "array([[ 0.91787143,  0.42876166,  0.31849789],\n",
        "       [ 0.8920637 ,  0.8617836 ,  0.582089  ],\n",
        "       [ 0.98204409,  0.16802432,  0.38859831]])"
       ]
      }
     ],
     "prompt_number": 110
    },
    {
     "cell_type": "code",
     "collapsed": false,
     "input": [
      "print a[1,1] # 2nd row, 2nd column\n",
      "print a[2,1] # 3rd row, 2nd column\n",
      "print a[1] # 2nd row\n",
      "print a[:,2] # return 3rd column - as a row vector?"
     ],
     "language": "python",
     "metadata": {},
     "outputs": [
      {
       "output_type": "stream",
       "stream": "stdout",
       "text": [
        "0.861783598347\n",
        "0.168024315246\n",
        "[ 0.8920637  0.8617836  0.582089 ]\n",
        "[ 0.31849789  0.582089    0.38859831]\n"
       ]
      }
     ],
     "prompt_number": 118
    },
    {
     "cell_type": "code",
     "collapsed": false,
     "input": [
      "# slicing\n",
      "a = np.arange(11,21)\n",
      "a"
     ],
     "language": "python",
     "metadata": {},
     "outputs": [
      {
       "metadata": {},
       "output_type": "pyout",
       "prompt_number": 131,
       "text": [
        "array([11, 12, 13, 14, 15, 16, 17, 18, 19, 20])"
       ]
      }
     ],
     "prompt_number": 131
    },
    {
     "cell_type": "code",
     "collapsed": false,
     "input": [
      "a[:4]"
     ],
     "language": "python",
     "metadata": {},
     "outputs": [
      {
       "metadata": {},
       "output_type": "pyout",
       "prompt_number": 132,
       "text": [
        "array([11, 12, 13, 14])"
       ]
      }
     ],
     "prompt_number": 132
    },
    {
     "cell_type": "code",
     "collapsed": false,
     "input": [
      "a[3:]"
     ],
     "language": "python",
     "metadata": {},
     "outputs": [
      {
       "metadata": {},
       "output_type": "pyout",
       "prompt_number": 134,
       "text": [
        "array([14, 15, 16, 17, 18, 19, 20])"
       ]
      }
     ],
     "prompt_number": 134
    },
    {
     "cell_type": "code",
     "collapsed": false,
     "input": [
      "a[::3]"
     ],
     "language": "python",
     "metadata": {},
     "outputs": [
      {
       "metadata": {},
       "output_type": "pyout",
       "prompt_number": 135,
       "text": [
        "array([11, 14, 17, 20])"
       ]
      }
     ],
     "prompt_number": 135
    },
    {
     "cell_type": "code",
     "collapsed": false,
     "input": [
      "a = np.arange(10)\n",
      "a"
     ],
     "language": "python",
     "metadata": {},
     "outputs": [
      {
       "metadata": {},
       "output_type": "pyout",
       "prompt_number": 139,
       "text": [
        "array([0, 1, 2, 3, 4, 5, 6, 7, 8, 9])"
       ]
      }
     ],
     "prompt_number": 139
    },
    {
     "cell_type": "code",
     "collapsed": false,
     "input": [
      "# slicing and assigning\n",
      "a[5:] = 10\n",
      "a"
     ],
     "language": "python",
     "metadata": {},
     "outputs": [
      {
       "metadata": {},
       "output_type": "pyout",
       "prompt_number": 143,
       "text": [
        "array([ 0,  1,  2,  3,  4, 10, 10, 10, 10, 10])"
       ]
      }
     ],
     "prompt_number": 143
    },
    {
     "cell_type": "code",
     "collapsed": false,
     "input": [
      "b = np.arange(5)\n",
      "b"
     ],
     "language": "python",
     "metadata": {},
     "outputs": [
      {
       "metadata": {},
       "output_type": "pyout",
       "prompt_number": 144,
       "text": [
        "array([0, 1, 2, 3, 4])"
       ]
      }
     ],
     "prompt_number": 144
    },
    {
     "cell_type": "code",
     "collapsed": false,
     "input": [
      "a[5:] = b[::-1]\n",
      "a"
     ],
     "language": "python",
     "metadata": {},
     "outputs": [
      {
       "metadata": {},
       "output_type": "pyout",
       "prompt_number": 145,
       "text": [
        "array([0, 1, 2, 3, 4, 4, 3, 2, 1, 0])"
       ]
      }
     ],
     "prompt_number": 145
    },
    {
     "cell_type": "markdown",
     "metadata": {},
     "source": [
      "**Note:** slicing operations create **views** on the original array - a way to view its data. The original array is **not** copied in memory when this occurs. **Modifying a view, modifies the original array!**"
     ]
    },
    {
     "cell_type": "code",
     "collapsed": false,
     "input": [
      "a = np.arange(10)\n",
      "a"
     ],
     "language": "python",
     "metadata": {},
     "outputs": [
      {
       "metadata": {},
       "output_type": "pyout",
       "prompt_number": 146,
       "text": [
        "array([0, 1, 2, 3, 4, 5, 6, 7, 8, 9])"
       ]
      }
     ],
     "prompt_number": 146
    },
    {
     "cell_type": "code",
     "collapsed": false,
     "input": [
      "b = a[::2]\n",
      "b"
     ],
     "language": "python",
     "metadata": {},
     "outputs": [
      {
       "metadata": {},
       "output_type": "pyout",
       "prompt_number": 148,
       "text": [
        "array([0, 2, 4, 6, 8])"
       ]
      }
     ],
     "prompt_number": 148
    },
    {
     "cell_type": "code",
     "collapsed": false,
     "input": [
      "b[0] = 12\n",
      "b"
     ],
     "language": "python",
     "metadata": {},
     "outputs": [
      {
       "metadata": {},
       "output_type": "pyout",
       "prompt_number": 149,
       "text": [
        "array([12,  2,  4,  6,  8])"
       ]
      }
     ],
     "prompt_number": 149
    },
    {
     "cell_type": "code",
     "collapsed": false,
     "input": [
      "a # a is now modified!!"
     ],
     "language": "python",
     "metadata": {},
     "outputs": [
      {
       "metadata": {},
       "output_type": "pyout",
       "prompt_number": 152,
       "text": [
        "array([12,  1,  2,  3,  4,  5,  6,  7,  8,  9])"
       ]
      }
     ],
     "prompt_number": 152
    },
    {
     "cell_type": "markdown",
     "metadata": {},
     "source": [
      "We must force a **copy** to be made when we want one (taking up memory). This behavior allows you to save memory and time! (example given in docs)"
     ]
    },
    {
     "cell_type": "code",
     "collapsed": false,
     "input": [
      "a = np.arange(10)\n",
      "a"
     ],
     "language": "python",
     "metadata": {},
     "outputs": [
      {
       "metadata": {},
       "output_type": "pyout",
       "prompt_number": 154,
       "text": [
        "array([0, 1, 2, 3, 4, 5, 6, 7, 8, 9])"
       ]
      }
     ],
     "prompt_number": 154
    },
    {
     "cell_type": "code",
     "collapsed": false,
     "input": [
      "c = a[::2].copy() # forces the copy\n",
      "c[0] = 12\n",
      "a # a remains unchanged"
     ],
     "language": "python",
     "metadata": {},
     "outputs": [
      {
       "metadata": {},
       "output_type": "pyout",
       "prompt_number": 157,
       "text": [
        "array([0, 1, 2, 3, 4, 5, 6, 7, 8, 9])"
       ]
      }
     ],
     "prompt_number": 157
    },
    {
     "cell_type": "markdown",
     "metadata": {},
     "source": [
      "**Note:**  Numpy arrays can be indexed with *slices*, but also with boolean or integer arrays **(masks)**. This method is called *fancy indexing*. It creates **copies** not views."
     ]
    },
    {
     "cell_type": "code",
     "collapsed": false,
     "input": [
      "# fancy indexing\n",
      "np.random.seed(3)\n",
      "a = np.random.random_integers(0, 20, 15)\n",
      "a"
     ],
     "language": "python",
     "metadata": {},
     "outputs": [
      {
       "metadata": {},
       "output_type": "pyout",
       "prompt_number": 159,
       "text": [
        "array([10,  3,  8,  0, 19, 10, 11,  9, 10,  6,  0, 20, 12,  7, 14])"
       ]
      }
     ],
     "prompt_number": 159
    },
    {
     "cell_type": "code",
     "collapsed": false,
     "input": [
      "(a % 3 == 0)"
     ],
     "language": "python",
     "metadata": {},
     "outputs": [
      {
       "metadata": {},
       "output_type": "pyout",
       "prompt_number": 161,
       "text": [
        "array([False,  True, False,  True, False, False, False,  True, False,\n",
        "        True,  True, False,  True, False, False], dtype=bool)"
       ]
      }
     ],
     "prompt_number": 161
    },
    {
     "cell_type": "code",
     "collapsed": false,
     "input": [
      "mask = (a % 3 == 0)\n",
      "extract_from_a = a[mask] # or,  a[a%3==0]\n",
      "extract_from_a           # extract a sub-array with the mask"
     ],
     "language": "python",
     "metadata": {},
     "outputs": [
      {
       "metadata": {},
       "output_type": "pyout",
       "prompt_number": 162,
       "text": [
        "array([ 3,  0,  9,  6,  0, 12])"
       ]
      }
     ],
     "prompt_number": 162
    },
    {
     "cell_type": "code",
     "collapsed": false,
     "input": [
      "extract_from_a[0] = 4\n",
      "extract_from_a"
     ],
     "language": "python",
     "metadata": {},
     "outputs": [
      {
       "metadata": {},
       "output_type": "pyout",
       "prompt_number": 163,
       "text": [
        "array([ 4,  0,  9,  6,  0, 12])"
       ]
      }
     ],
     "prompt_number": 163
    },
    {
     "cell_type": "code",
     "collapsed": false,
     "input": [
      "a # a is unchanged!"
     ],
     "language": "python",
     "metadata": {},
     "outputs": [
      {
       "metadata": {},
       "output_type": "pyout",
       "prompt_number": 165,
       "text": [
        "array([10,  3,  8,  0, 19, 10, 11,  9, 10,  6,  0, 20, 12,  7, 14])"
       ]
      }
     ],
     "prompt_number": 165
    },
    {
     "cell_type": "code",
     "collapsed": false,
     "input": [
      "# indexing with arrays of integers\n",
      "a = np.arange(0, 100, 10)\n",
      "a"
     ],
     "language": "python",
     "metadata": {},
     "outputs": [
      {
       "metadata": {},
       "output_type": "pyout",
       "prompt_number": 166,
       "text": [
        "array([ 0, 10, 20, 30, 40, 50, 60, 70, 80, 90])"
       ]
      }
     ],
     "prompt_number": 166
    },
    {
     "cell_type": "code",
     "collapsed": false,
     "input": [
      "indeces_we_want = [2,3,2,4,2] # repeated indices!\n",
      "a[indeces_we_want]"
     ],
     "language": "python",
     "metadata": {},
     "outputs": [
      {
       "metadata": {},
       "output_type": "pyout",
       "prompt_number": 170,
       "text": [
        "array([20, 30, 20, 40, 20])"
       ]
      }
     ],
     "prompt_number": 170
    },
    {
     "cell_type": "code",
     "collapsed": false,
     "input": [
      "a[[9,7]] = 34 # assigning values using this indexing - note they can be out of order!\n",
      "a"
     ],
     "language": "python",
     "metadata": {},
     "outputs": [
      {
       "metadata": {},
       "output_type": "pyout",
       "prompt_number": 172,
       "text": [
        "array([ 0, 10, 20, 30, 40, 50, 60, 34, 80, 34])"
       ]
      }
     ],
     "prompt_number": 172
    },
    {
     "cell_type": "heading",
     "level": 2,
     "metadata": {},
     "source": [
      "Operations on NumPy Arrays"
     ]
    },
    {
     "cell_type": "code",
     "collapsed": false,
     "input": [
      "# **Note:** Try to always use numpy array operations. There much faster then native python:\n",
      "a = np.arange(10000)\n",
      "%timeit a + 1"
     ],
     "language": "python",
     "metadata": {},
     "outputs": [
      {
       "output_type": "stream",
       "stream": "stdout",
       "text": [
        "100000 loops, best of 3: 12.5 \u00b5s per loop\n"
       ]
      }
     ],
     "prompt_number": 4
    },
    {
     "cell_type": "code",
     "collapsed": false,
     "input": [
      "l = range(10000)\n",
      "%timeit [i+1 for i in l]"
     ],
     "language": "python",
     "metadata": {},
     "outputs": [
      {
       "output_type": "stream",
       "stream": "stdout",
       "text": [
        "1000 loops, best of 3: 461 \u00b5s per loop\n"
       ]
      }
     ],
     "prompt_number": 5
    },
    {
     "cell_type": "markdown",
     "metadata": {},
     "source": [
      "**NOTE:** Array multiplication is **not** matrix multiplication!!!!"
     ]
    },
    {
     "cell_type": "code",
     "collapsed": false,
     "input": [
      "c = np.ones((3,3)) * 3\n",
      "d = np.ones((3,4)) * 2\n",
      "c * d # NOT MATRIX MULTIPLICATION"
     ],
     "language": "python",
     "metadata": {},
     "outputs": [
      {
       "ename": "ValueError",
       "evalue": "operands could not be broadcast together with shapes (3,3) (3,4) ",
       "output_type": "pyerr",
       "traceback": [
        "\u001b[1;31m---------------------------------------------------------------------------\u001b[0m\n\u001b[1;31mValueError\u001b[0m                                Traceback (most recent call last)",
        "\u001b[1;32m<ipython-input-9-e88232272fbe>\u001b[0m in \u001b[0;36m<module>\u001b[1;34m()\u001b[0m\n\u001b[0;32m      1\u001b[0m \u001b[0mc\u001b[0m \u001b[1;33m=\u001b[0m \u001b[0mnp\u001b[0m\u001b[1;33m.\u001b[0m\u001b[0mones\u001b[0m\u001b[1;33m(\u001b[0m\u001b[1;33m(\u001b[0m\u001b[1;36m3\u001b[0m\u001b[1;33m,\u001b[0m\u001b[1;36m3\u001b[0m\u001b[1;33m)\u001b[0m\u001b[1;33m)\u001b[0m \u001b[1;33m*\u001b[0m \u001b[1;36m3\u001b[0m\u001b[1;33m\u001b[0m\u001b[0m\n\u001b[0;32m      2\u001b[0m \u001b[0md\u001b[0m \u001b[1;33m=\u001b[0m \u001b[0mnp\u001b[0m\u001b[1;33m.\u001b[0m\u001b[0mones\u001b[0m\u001b[1;33m(\u001b[0m\u001b[1;33m(\u001b[0m\u001b[1;36m3\u001b[0m\u001b[1;33m,\u001b[0m\u001b[1;36m4\u001b[0m\u001b[1;33m)\u001b[0m\u001b[1;33m)\u001b[0m \u001b[1;33m*\u001b[0m \u001b[1;36m2\u001b[0m\u001b[1;33m\u001b[0m\u001b[0m\n\u001b[1;32m----> 3\u001b[1;33m \u001b[0mc\u001b[0m \u001b[1;33m*\u001b[0m \u001b[0md\u001b[0m \u001b[1;31m# NOT MATRIX MULTIPLICATION\u001b[0m\u001b[1;33m\u001b[0m\u001b[0m\n\u001b[0m",
        "\u001b[1;31mValueError\u001b[0m: operands could not be broadcast together with shapes (3,3) (3,4) "
       ]
      }
     ],
     "prompt_number": 9
    },
    {
     "cell_type": "code",
     "collapsed": false,
     "input": [
      "c.dot(d) # THIS IS MATRIX MULTIPLICATION"
     ],
     "language": "python",
     "metadata": {},
     "outputs": [
      {
       "metadata": {},
       "output_type": "pyout",
       "prompt_number": 10,
       "text": [
        "array([[ 18.,  18.,  18.,  18.],\n",
        "       [ 18.,  18.,  18.,  18.],\n",
        "       [ 18.,  18.,  18.,  18.]])"
       ]
      }
     ],
     "prompt_number": 10
    },
    {
     "cell_type": "code",
     "collapsed": false,
     "input": [
      "# comparisons\n",
      "a = np.array([1, 2, 3, 4])\n",
      "b = np.array([4, 2, 2, 4])\n",
      "a == b"
     ],
     "language": "python",
     "metadata": {},
     "outputs": [
      {
       "metadata": {},
       "output_type": "pyout",
       "prompt_number": 11,
       "text": [
        "array([False,  True, False,  True], dtype=bool)"
       ]
      }
     ],
     "prompt_number": 11
    },
    {
     "cell_type": "code",
     "collapsed": false,
     "input": [
      "a > b"
     ],
     "language": "python",
     "metadata": {},
     "outputs": [
      {
       "metadata": {},
       "output_type": "pyout",
       "prompt_number": 12,
       "text": [
        "array([False, False,  True, False], dtype=bool)"
       ]
      }
     ],
     "prompt_number": 12
    },
    {
     "cell_type": "code",
     "collapsed": false,
     "input": [
      "# array wise comparsions\n",
      "a = np.array([1, 2, 3, 4])\n",
      "b = np.array([4, 2, 2, 4])\n",
      "c = np.array([1, 2, 3, 4])\n",
      "np.array_equal(a, b)"
     ],
     "language": "python",
     "metadata": {},
     "outputs": [
      {
       "metadata": {},
       "output_type": "pyout",
       "prompt_number": 13,
       "text": [
        "False"
       ]
      }
     ],
     "prompt_number": 13
    },
    {
     "cell_type": "code",
     "collapsed": false,
     "input": [
      "np.array_equal(a, c)"
     ],
     "language": "python",
     "metadata": {},
     "outputs": [
      {
       "metadata": {},
       "output_type": "pyout",
       "prompt_number": 14,
       "text": [
        "True"
       ]
      }
     ],
     "prompt_number": 14
    },
    {
     "cell_type": "code",
     "collapsed": false,
     "input": [
      "# logical operations\n",
      "a = np.array([1, 1, 0, 0], dtype=bool)\n",
      "b = np.array([1, 0, 1, 0], dtype=bool)\n",
      "np.logical_or(a, b)"
     ],
     "language": "python",
     "metadata": {},
     "outputs": [
      {
       "metadata": {},
       "output_type": "pyout",
       "prompt_number": 15,
       "text": [
        "array([ True,  True,  True, False], dtype=bool)"
       ]
      }
     ],
     "prompt_number": 15
    },
    {
     "cell_type": "code",
     "collapsed": false,
     "input": [
      "np.logical_and(a, b)"
     ],
     "language": "python",
     "metadata": {},
     "outputs": [
      {
       "metadata": {},
       "output_type": "pyout",
       "prompt_number": 17,
       "text": [
        "array([ True, False, False, False], dtype=bool)"
       ]
      }
     ],
     "prompt_number": 17
    },
    {
     "cell_type": "code",
     "collapsed": false,
     "input": [
      "# sin/log/etc.\n",
      "a = np.arange(5)\n",
      "np.sin(a)\n",
      "np.log(a)\n",
      "np.exp(a)"
     ],
     "language": "python",
     "metadata": {},
     "outputs": [
      {
       "metadata": {},
       "output_type": "pyout",
       "prompt_number": 23,
       "text": [
        "array([  1.        ,   2.71828183,   7.3890561 ,  20.08553692,  54.59815003])"
       ]
      }
     ],
     "prompt_number": 23
    },
    {
     "cell_type": "code",
     "collapsed": false,
     "input": [
      "# upper triangular\n",
      "a = np.triu([[1,2,3],[4,5,6],[7,8,9],[10,11,12]], -1) # np.triu?\n",
      "a"
     ],
     "language": "python",
     "metadata": {},
     "outputs": [
      {
       "metadata": {},
       "output_type": "pyout",
       "prompt_number": 38,
       "text": [
        "array([[ 1,  2,  3],\n",
        "       [ 4,  5,  6],\n",
        "       [ 0,  8,  9],\n",
        "       [ 0,  0, 12]])"
       ]
      }
     ],
     "prompt_number": 38
    },
    {
     "cell_type": "code",
     "collapsed": false,
     "input": [
      "# transpose\n",
      "a.T"
     ],
     "language": "python",
     "metadata": {},
     "outputs": [
      {
       "metadata": {},
       "output_type": "pyout",
       "prompt_number": 39,
       "text": [
        "array([[ 1,  4,  0,  0],\n",
        "       [ 2,  5,  8,  0],\n",
        "       [ 3,  6,  9, 12]])"
       ]
      }
     ],
     "prompt_number": 39
    },
    {
     "cell_type": "markdown",
     "metadata": {},
     "source": [
      "**NOTE:** The transposition is a **view**. As a results, the following code is **wrong** and will **not** make a matrix symmetric:"
     ]
    },
    {
     "cell_type": "code",
     "collapsed": false,
     "input": [
      "# tranpose is a view!\n",
      "a += a.T"
     ],
     "language": "python",
     "metadata": {},
     "outputs": [
      {
       "ename": "ValueError",
       "evalue": "operands could not be broadcast together with shapes (4,3) (3,4) (4,3) ",
       "output_type": "pyerr",
       "traceback": [
        "\u001b[1;31m---------------------------------------------------------------------------\u001b[0m\n\u001b[1;31mValueError\u001b[0m                                Traceback (most recent call last)",
        "\u001b[1;32m<ipython-input-40-51112022fa9c>\u001b[0m in \u001b[0;36m<module>\u001b[1;34m()\u001b[0m\n\u001b[0;32m      1\u001b[0m \u001b[1;31m# tranpose is a view!\u001b[0m\u001b[1;33m\u001b[0m\u001b[1;33m\u001b[0m\u001b[0m\n\u001b[1;32m----> 2\u001b[1;33m \u001b[0ma\u001b[0m \u001b[1;33m+=\u001b[0m \u001b[0ma\u001b[0m\u001b[1;33m.\u001b[0m\u001b[0mT\u001b[0m\u001b[1;33m\u001b[0m\u001b[0m\n\u001b[0m",
        "\u001b[1;31mValueError\u001b[0m: operands could not be broadcast together with shapes (4,3) (3,4) (4,3) "
       ]
      }
     ],
     "prompt_number": 40
    },
    {
     "cell_type": "code",
     "collapsed": false,
     "input": [
      "x = np.array([1, 2, 3, 4])\n",
      "np.sum(x) # or x.sum()"
     ],
     "language": "python",
     "metadata": {},
     "outputs": [
      {
       "metadata": {},
       "output_type": "pyout",
       "prompt_number": 42,
       "text": [
        "10"
       ]
      }
     ],
     "prompt_number": 42
    },
    {
     "cell_type": "code",
     "collapsed": false,
     "input": [
      "# sum by rows\n",
      "x = np.array([[1, 1], [2, 2]])\n",
      "x"
     ],
     "language": "python",
     "metadata": {},
     "outputs": [
      {
       "metadata": {},
       "output_type": "pyout",
       "prompt_number": 90,
       "text": [
        "array([[1, 1],\n",
        "       [2, 2]])"
       ]
      }
     ],
     "prompt_number": 90
    },
    {
     "cell_type": "code",
     "collapsed": false,
     "input": [
      "# axis specification\n",
      "Image(url='https://scipy-lectures.github.io/_images/reductions.png')"
     ],
     "language": "python",
     "metadata": {},
     "outputs": [
      {
       "html": [
        "<img src=\"https://scipy-lectures.github.io/_images/reductions.png\"/>"
       ],
       "metadata": {},
       "output_type": "pyout",
       "prompt_number": 91,
       "text": [
        "<IPython.core.display.Image at 0x6ae57b8>"
       ]
      }
     ],
     "prompt_number": 91
    },
    {
     "cell_type": "code",
     "collapsed": false,
     "input": [
      "x.sum(axis=0)   # columns (first dimension)"
     ],
     "language": "python",
     "metadata": {},
     "outputs": [
      {
       "metadata": {},
       "output_type": "pyout",
       "prompt_number": 46,
       "text": [
        "array([3, 3])"
       ]
      }
     ],
     "prompt_number": 46
    },
    {
     "cell_type": "code",
     "collapsed": false,
     "input": [
      "x[:, 0].sum(), x[:, 1].sum() # ugly"
     ],
     "language": "python",
     "metadata": {},
     "outputs": [
      {
       "metadata": {},
       "output_type": "pyout",
       "prompt_number": 48,
       "text": [
        "(3, 3)"
       ]
      }
     ],
     "prompt_number": 48
    },
    {
     "cell_type": "code",
     "collapsed": false,
     "input": [
      "x.sum(axis=1)"
     ],
     "language": "python",
     "metadata": {},
     "outputs": [
      {
       "metadata": {},
       "output_type": "pyout",
       "prompt_number": 53,
       "text": [
        "array([2, 4])"
       ]
      }
     ],
     "prompt_number": 53
    },
    {
     "cell_type": "code",
     "collapsed": false,
     "input": [
      "x[0, :].sum(), x[1, :].sum()"
     ],
     "language": "python",
     "metadata": {},
     "outputs": [
      {
       "metadata": {},
       "output_type": "pyout",
       "prompt_number": 54,
       "text": [
        "(2, 4)"
       ]
      }
     ],
     "prompt_number": 54
    },
    {
     "cell_type": "code",
     "collapsed": false,
     "input": [
      "# higher dimensions\n",
      "x = np.random.rand(4, 2, 2)\n",
      "x"
     ],
     "language": "python",
     "metadata": {},
     "outputs": [
      {
       "metadata": {},
       "output_type": "pyout",
       "prompt_number": 60,
       "text": [
        "array([[[ 0.64087643,  0.59909172],\n",
        "        [ 0.7375521 ,  0.55392759]],\n",
        "\n",
        "       [[ 0.18211809,  0.225318  ],\n",
        "        [ 0.39334962,  0.60210531]],\n",
        "\n",
        "       [[ 0.05455312,  0.63163553],\n",
        "        [ 0.24330105,  0.24341089]],\n",
        "\n",
        "       [[ 0.9307931 ,  0.58877832],\n",
        "        [ 0.01637107,  0.04739138]]])"
       ]
      }
     ],
     "prompt_number": 60
    },
    {
     "cell_type": "code",
     "collapsed": false,
     "input": [
      "x.sum(axis=2)[0, 1]     "
     ],
     "language": "python",
     "metadata": {},
     "outputs": [
      {
       "metadata": {},
       "output_type": "pyout",
       "prompt_number": 61,
       "text": [
        "1.2914796905133588"
       ]
      }
     ],
     "prompt_number": 61
    },
    {
     "cell_type": "code",
     "collapsed": false,
     "input": [
      "#extrema\n",
      "x = np.array([1, 3, 2])\n",
      "x.max()"
     ],
     "language": "python",
     "metadata": {},
     "outputs": [
      {
       "metadata": {},
       "output_type": "pyout",
       "prompt_number": 64,
       "text": [
        "3"
       ]
      }
     ],
     "prompt_number": 64
    },
    {
     "cell_type": "code",
     "collapsed": false,
     "input": [
      "x.argmax()  # index of max"
     ],
     "language": "python",
     "metadata": {},
     "outputs": [
      {
       "metadata": {},
       "output_type": "pyout",
       "prompt_number": 65,
       "text": [
        "1"
       ]
      }
     ],
     "prompt_number": 65
    },
    {
     "cell_type": "code",
     "collapsed": false,
     "input": [
      "# logical operations\n",
      "np.all([True, True, False]) # and"
     ],
     "language": "python",
     "metadata": {},
     "outputs": [
      {
       "metadata": {},
       "output_type": "pyout",
       "prompt_number": 67,
       "text": [
        "False"
       ]
      }
     ],
     "prompt_number": 67
    },
    {
     "cell_type": "code",
     "collapsed": false,
     "input": [
      "np.any([True, True, False]) # or"
     ],
     "language": "python",
     "metadata": {},
     "outputs": [
      {
       "metadata": {},
       "output_type": "pyout",
       "prompt_number": 68,
       "text": [
        "True"
       ]
      }
     ],
     "prompt_number": 68
    },
    {
     "cell_type": "code",
     "collapsed": false,
     "input": [
      "a = np.zeros((100,100))"
     ],
     "language": "python",
     "metadata": {},
     "outputs": [],
     "prompt_number": 70
    },
    {
     "cell_type": "code",
     "collapsed": false,
     "input": [
      "# masking/comparisons\n",
      "np.any(a != 0)"
     ],
     "language": "python",
     "metadata": {},
     "outputs": [
      {
       "metadata": {},
       "output_type": "pyout",
       "prompt_number": 73,
       "text": [
        "False"
       ]
      }
     ],
     "prompt_number": 73
    },
    {
     "cell_type": "code",
     "collapsed": false,
     "input": [
      "np.all(a == a)"
     ],
     "language": "python",
     "metadata": {},
     "outputs": [
      {
       "metadata": {},
       "output_type": "pyout",
       "prompt_number": 74,
       "text": [
        "True"
       ]
      }
     ],
     "prompt_number": 74
    },
    {
     "cell_type": "code",
     "collapsed": false,
     "input": [
      "# basic stats\n",
      "x = np.array([1,2,3,1])\n",
      "y = np.array([[1, 2, 3], [5, 6, 1]])"
     ],
     "language": "python",
     "metadata": {},
     "outputs": [],
     "prompt_number": 76
    },
    {
     "cell_type": "code",
     "collapsed": false,
     "input": [
      "x.mean()"
     ],
     "language": "python",
     "metadata": {},
     "outputs": [
      {
       "metadata": {},
       "output_type": "pyout",
       "prompt_number": 77,
       "text": [
        "1.75"
       ]
      }
     ],
     "prompt_number": 77
    },
    {
     "cell_type": "code",
     "collapsed": false,
     "input": [
      "np.median(x)"
     ],
     "language": "python",
     "metadata": {},
     "outputs": [
      {
       "metadata": {},
       "output_type": "pyout",
       "prompt_number": 78,
       "text": [
        "1.5"
       ]
      }
     ],
     "prompt_number": 78
    },
    {
     "cell_type": "code",
     "collapsed": false,
     "input": [
      "np.median(y,axis=-1) # last axis"
     ],
     "language": "python",
     "metadata": {},
     "outputs": [
      {
       "metadata": {},
       "output_type": "pyout",
       "prompt_number": 80,
       "text": [
        "array([ 2.,  5.])"
       ]
      }
     ],
     "prompt_number": 80
    },
    {
     "cell_type": "code",
     "collapsed": false,
     "input": [
      "x.std()"
     ],
     "language": "python",
     "metadata": {},
     "outputs": [
      {
       "metadata": {},
       "output_type": "pyout",
       "prompt_number": 81,
       "text": [
        "0.82915619758884995"
       ]
      }
     ],
     "prompt_number": 81
    },
    {
     "cell_type": "heading",
     "level": 2,
     "metadata": {},
     "source": [
      "Worked Example - Diffusion"
     ]
    },
    {
     "cell_type": "markdown",
     "metadata": {},
     "source": [
      "Let us consider a simple 1D random walk process: at each time step a walker jumps right or left with equal probability.\n",
      "We are interested in finding the typical distance from the origin of a random walker after `t` jumps. We are going to simulate many \u201cwalkers\u201d to find this law, and we are going to do so using array computing: we are going to create a 2D array with the \u201cstories\u201d (each walker has a story) in one direction, and the time in the other:"
     ]
    },
    {
     "cell_type": "code",
     "collapsed": false,
     "input": [
      "n_stories = 1000 # num rows/walkers\n",
      "t_max = 200      # num col/time to follow walker"
     ],
     "language": "python",
     "metadata": {},
     "outputs": [],
     "prompt_number": 83
    },
    {
     "cell_type": "code",
     "collapsed": false,
     "input": [
      "# randomly choose all the steps (1 or -1) of the walk:\n",
      "time = np.arange(t_max)\n",
      "steps = 2 * np.random.random_integers(0, 1, (n_stories, t_max)) - 1 # generate random 0:1, shift to 0:2, and finally -1:1\n",
      "np.unique(steps) # verify all steps are between -1 and 1"
     ],
     "language": "python",
     "metadata": {},
     "outputs": [
      {
       "metadata": {},
       "output_type": "pyout",
       "prompt_number": 93,
       "text": [
        "array([-1,  1])"
       ]
      }
     ],
     "prompt_number": 93
    },
    {
     "cell_type": "code",
     "collapsed": false,
     "input": [
      "# build the walks by summing steps along time (col)\n",
      "positions = np.cumsum(steps, axis=1) # axis = 1: dimension of time\n",
      "Image(url='https://scipy-lectures.github.io/_images/random_walk_schema.png')"
     ],
     "language": "python",
     "metadata": {},
     "outputs": [
      {
       "html": [
        "<img src=\"https://scipy-lectures.github.io/_images/random_walk_schema.png\"/>"
       ],
       "metadata": {},
       "output_type": "pyout",
       "prompt_number": 94,
       "text": [
        "<IPython.core.display.Image at 0x6cc6208>"
       ]
      }
     ],
     "prompt_number": 94
    },
    {
     "cell_type": "code",
     "collapsed": false,
     "input": [
      "sq_distance = positions**2\n",
      "mean_sq_distance = np.mean(sq_distance, axis=0) # calc mean \"story\" (rows)"
     ],
     "language": "python",
     "metadata": {},
     "outputs": [],
     "prompt_number": 96
    },
    {
     "cell_type": "code",
     "collapsed": false,
     "input": [
      "# plot results\n",
      "plt.figure(figsize=(4, 3)) \n",
      "plt.plot(time, np.sqrt(mean_sq_distance), 'g.', time, np.sqrt(time), 'y-') \n",
      "plt.xlabel(r\"$t$\") \n",
      "plt.ylabel(r\"$\\sqrt{\\langle (\\delta x)^2 \\rangle}$\") "
     ],
     "language": "python",
     "metadata": {},
     "outputs": [
      {
       "metadata": {},
       "output_type": "pyout",
       "prompt_number": 104,
       "text": [
        "<matplotlib.text.Text at 0x7eeba58>"
       ]
      },
      {
       "metadata": {},
       "output_type": "display_data",
       "png": "[encoded data removed]",
       "text": [
        "<matplotlib.figure.Figure at 0x6d5dda0>"
       ]
      }
     ],
     "prompt_number": 104
    },
    {
     "cell_type": "code",
     "collapsed": false,
     "input": [
      "# skipped section on broadcasting - revist it:\n",
      "Image(url='https://scipy-lectures.github.io/_images/numpy_broadcasting.png')"
     ],
     "language": "python",
     "metadata": {},
     "outputs": [
      {
       "html": [
        "<img src=\"https://scipy-lectures.github.io/_images/numpy_broadcasting.png\"/>"
       ],
       "metadata": {},
       "output_type": "pyout",
       "prompt_number": 105,
       "text": [
        "<IPython.core.display.Image at 0x7eebd68>"
       ]
      }
     ],
     "prompt_number": 105
    },
    {
     "cell_type": "code",
     "collapsed": false,
     "input": [
      "# array flattening\n",
      "a = np.array([[1, 2, 3], [4, 5, 6]])\n",
      "a"
     ],
     "language": "python",
     "metadata": {},
     "outputs": [
      {
       "metadata": {},
       "output_type": "pyout",
       "prompt_number": 121,
       "text": [
        "array([[1, 2, 3],\n",
        "       [4, 5, 6]])"
       ]
      }
     ],
     "prompt_number": 121
    },
    {
     "cell_type": "code",
     "collapsed": false,
     "input": [
      "a.ravel() # ravel?"
     ],
     "language": "python",
     "metadata": {},
     "outputs": [
      {
       "metadata": {},
       "output_type": "pyout",
       "prompt_number": 120,
       "text": [
        "array([1, 2, 3, 4, 5, 6])"
       ]
      }
     ],
     "prompt_number": 120
    },
    {
     "cell_type": "code",
     "collapsed": false,
     "input": [
      "a.T"
     ],
     "language": "python",
     "metadata": {},
     "outputs": [
      {
       "metadata": {},
       "output_type": "pyout",
       "prompt_number": 115,
       "text": [
        "array([[1, 4],\n",
        "       [2, 5],\n",
        "       [3, 6]])"
       ]
      }
     ],
     "prompt_number": 115
    },
    {
     "cell_type": "code",
     "collapsed": false,
     "input": [
      "a.T.ravel()"
     ],
     "language": "python",
     "metadata": {},
     "outputs": [
      {
       "metadata": {},
       "output_type": "pyout",
       "prompt_number": 117,
       "text": [
        "array([1, 4, 2, 5, 3, 6])"
       ]
      }
     ],
     "prompt_number": 117
    },
    {
     "cell_type": "code",
     "collapsed": false,
     "input": [
      "# reshaping\n",
      "a.shape"
     ],
     "language": "python",
     "metadata": {},
     "outputs": [
      {
       "metadata": {},
       "output_type": "pyout",
       "prompt_number": 122,
       "text": [
        "(2L, 3L)"
       ]
      }
     ],
     "prompt_number": 122
    },
    {
     "cell_type": "code",
     "collapsed": false,
     "input": [
      "b = a.ravel()\n",
      "b"
     ],
     "language": "python",
     "metadata": {},
     "outputs": [
      {
       "metadata": {},
       "output_type": "pyout",
       "prompt_number": 124,
       "text": [
        "array([1, 2, 3, 4, 5, 6])"
       ]
      }
     ],
     "prompt_number": 124
    },
    {
     "cell_type": "code",
     "collapsed": false,
     "input": [
      "b.reshape((2,3))"
     ],
     "language": "python",
     "metadata": {},
     "outputs": [
      {
       "metadata": {},
       "output_type": "pyout",
       "prompt_number": 128,
       "text": [
        "array([[1, 2, 3],\n",
        "       [4, 5, 6]])"
       ]
      }
     ],
     "prompt_number": 128
    },
    {
     "cell_type": "code",
     "collapsed": false,
     "input": [
      "# not specifying the other dimension (give it -1) - its infered!\n",
      "a.reshape((2,-1))"
     ],
     "language": "python",
     "metadata": {},
     "outputs": [
      {
       "metadata": {},
       "output_type": "pyout",
       "prompt_number": 129,
       "text": [
        "array([[1, 2, 3],\n",
        "       [4, 5, 6]])"
       ]
      }
     ],
     "prompt_number": 129
    },
    {
     "cell_type": "markdown",
     "metadata": {},
     "source": [
      "**Note:** `ndarray.reshape` may return a view (cf help(np.reshape))), or copy - To understand this you need to learn more about the memory layout of a numpy array."
     ]
    },
    {
     "cell_type": "code",
     "collapsed": false,
     "input": [
      "# adding an axis\n",
      "z = np.array([1, 2, 3])\n",
      "z"
     ],
     "language": "python",
     "metadata": {},
     "outputs": [
      {
       "metadata": {},
       "output_type": "pyout",
       "prompt_number": 130,
       "text": [
        "array([1, 2, 3])"
       ]
      }
     ],
     "prompt_number": 130
    },
    {
     "cell_type": "code",
     "collapsed": false,
     "input": [
      "z[:, np.newaxis]"
     ],
     "language": "python",
     "metadata": {},
     "outputs": [
      {
       "metadata": {},
       "output_type": "pyout",
       "prompt_number": 131,
       "text": [
        "array([[1],\n",
        "       [2],\n",
        "       [3]])"
       ]
      }
     ],
     "prompt_number": 131
    },
    {
     "cell_type": "code",
     "collapsed": false,
     "input": [
      "z[np.newaxis, :]"
     ],
     "language": "python",
     "metadata": {},
     "outputs": [
      {
       "metadata": {},
       "output_type": "pyout",
       "prompt_number": 146,
       "text": [
        "array([[1, 2, 3]])"
       ]
      }
     ],
     "prompt_number": 146
    },
    {
     "cell_type": "heading",
     "level": 2,
     "metadata": {},
     "source": [
      "Misc Operations"
     ]
    },
    {
     "cell_type": "code",
     "collapsed": false,
     "input": [
      "# polynomials\n",
      "p = np.poly1d([3, 2, -1]) #3x^2 + 2x - 1\n",
      "p(0)"
     ],
     "language": "python",
     "metadata": {},
     "outputs": [
      {
       "metadata": {},
       "output_type": "pyout",
       "prompt_number": 137,
       "text": [
        "-1"
       ]
      }
     ],
     "prompt_number": 137
    },
    {
     "cell_type": "code",
     "collapsed": false,
     "input": [
      "p.roots"
     ],
     "language": "python",
     "metadata": {},
     "outputs": [
      {
       "metadata": {},
       "output_type": "pyout",
       "prompt_number": 135,
       "text": [
        "array([-1.        ,  0.33333333])"
       ]
      }
     ],
     "prompt_number": 135
    },
    {
     "cell_type": "code",
     "collapsed": false,
     "input": [
      "p.order"
     ],
     "language": "python",
     "metadata": {},
     "outputs": [
      {
       "metadata": {},
       "output_type": "pyout",
       "prompt_number": 138,
       "text": [
        "2"
       ]
      }
     ],
     "prompt_number": 138
    },
    {
     "cell_type": "code",
     "collapsed": false,
     "input": [
      "x = np.linspace(0,1,20)\n",
      "y = np.cos(x) + 0.3*np.random.rand(20)\n",
      "p = np.poly1d(np.polyfit(x,y,3))\n",
      "t = np.linspace(0,1,200)\n",
      "plt.plot(x, y, 'o', t, p(t), '-')   "
     ],
     "language": "python",
     "metadata": {},
     "outputs": [
      {
       "metadata": {},
       "output_type": "pyout",
       "prompt_number": 142,
       "text": [
        "[<matplotlib.lines.Line2D at 0x80ce828>,\n",
        " <matplotlib.lines.Line2D at 0x80cea20>]"
       ]
      },
      {
       "metadata": {},
       "output_type": "display_data",
       "png": "[encoded data removed]",
       "text": [
        "<matplotlib.figure.Figure at 0x6d5dac8>"
       ]
      }
     ],
     "prompt_number": 142
    },
    {
     "cell_type": "code",
     "collapsed": false,
     "input": [
      "# 3x^2+2x-1\n",
      "p = np.polynomial.Polynomial([-1, 2, 3]) # coefs in different order!!!"
     ],
     "language": "python",
     "metadata": {},
     "outputs": [],
     "prompt_number": 143
    },
    {
     "cell_type": "code",
     "collapsed": false,
     "input": [
      "# Chebyshev basis\n",
      "x = np.linspace(-1, 1, 2000)\n",
      "y = np.cos(x) + 0.3*np.random.rand(2000)\n",
      "p = np.polynomial.Chebyshev.fit(x, y, 90)\n",
      "t = np.linspace(-1, 1, 200)\n",
      "plt.plot(x, y, 'r.')   \n",
      "plt.plot(t, p(t), 'k-', lw=3)   "
     ],
     "language": "python",
     "metadata": {},
     "outputs": [
      {
       "metadata": {},
       "output_type": "pyout",
       "prompt_number": 145,
       "text": [
        "[<matplotlib.lines.Line2D at 0x852eac8>]"
       ]
      },
      {
       "metadata": {},
       "output_type": "display_data",
       "png": "[encoded data removed]",
       "text": [
        "<matplotlib.figure.Figure at 0x6d5dba8>"
       ]
      }
     ],
     "prompt_number": 145
    },
    {
     "cell_type": "code",
     "collapsed": false,
     "input": [
      "# loading text files\n",
      "data = np.loadtxt('data.txt')\n",
      "data"
     ],
     "language": "python",
     "metadata": {},
     "outputs": [
      {
       "metadata": {},
       "output_type": "pyout",
       "prompt_number": 148,
       "text": [
        "array([[  1900.,  30000.,   4000.,  48300.],\n",
        "       [  1901.,  47200.,   6100.,  48200.],\n",
        "       [  1902.,  70200.,   9800.,  41500.],\n",
        "       [  1903.,  77400.,  35200.,  38200.]])"
       ]
      }
     ],
     "prompt_number": 148
    },
    {
     "cell_type": "code",
     "collapsed": false,
     "input": [
      "# np.savetxt('myfile.txt',data)\n",
      "# scipy.io.loadmat, scipy.io.savemat"
     ],
     "language": "python",
     "metadata": {},
     "outputs": [],
     "prompt_number": 149
    },
    {
     "cell_type": "code",
     "collapsed": false,
     "input": [
      "# Lena example\n",
      "from scipy import misc\n",
      "lena = misc.lena()\n",
      "plt.imshow(lena)"
     ],
     "language": "python",
     "metadata": {},
     "outputs": [
      {
       "metadata": {},
       "output_type": "pyout",
       "prompt_number": 153,
       "text": [
        "<matplotlib.image.AxesImage at 0x6effcf8>"
       ]
      },
      {
       "metadata": {},
       "output_type": "display_data",
       "png": "[encoded data removed]",
       "text": [
        "<matplotlib.figure.Figure at 0x8b16518>"
       ]
      }
     ],
     "prompt_number": 153
    },
    {
     "cell_type": "code",
     "collapsed": false,
     "input": [
      "plt.imshow(lena, cmap=plt.cm.gray)"
     ],
     "language": "python",
     "metadata": {},
     "outputs": [
      {
       "metadata": {},
       "output_type": "pyout",
       "prompt_number": 154,
       "text": [
        "<matplotlib.image.AxesImage at 0xaf5d588>"
       ]
      },
      {
       "metadata": {},
       "output_type": "display_data",
       "png": "[encoded data removed]",
       "text": [
        "<matplotlib.figure.Figure at 0xaf409b0>"
       ]
      }
     ],
     "prompt_number": 154
    },
    {
     "cell_type": "code",
     "collapsed": false,
     "input": [
      "crop_lena = lena[30:-30,30:-30]\n",
      "y, x = np.ogrid[0:512,0:512] # x and y indices of pixels\n",
      "centerx, centery = (256, 256) # center of the image\n",
      "mask = ((y - centery)**2 + (x - centerx)**2) > 230**2 # circle\n",
      "lena[mask] = 0\n",
      "plt.imshow(lena)"
     ],
     "language": "python",
     "metadata": {},
     "outputs": [
      {
       "metadata": {},
       "output_type": "pyout",
       "prompt_number": 157,
       "text": [
        "<matplotlib.image.AxesImage at 0xb2be358>"
       ]
      },
      {
       "metadata": {},
       "output_type": "display_data",
       "png": "[encoded data removed]",
       "text": [
        "<matplotlib.figure.Figure at 0xaf42cf8>"
       ]
      }
     ],
     "prompt_number": 157
    },
    {
     "cell_type": "heading",
     "level": 1,
     "metadata": {},
     "source": [
      "Matplotlib"
     ]
    },
    {
     "cell_type": "markdown",
     "metadata": {},
     "source": [
      "Matplotlib is probably the single most used Python package for 2D-graphics. It provides both a very quick way to visualize data from Python and publication-quality figures in many formats. It is styled after matlab's tools.\n",
      "\n",
      "A **great** tutorial for its many options can be found here: [Scipy-Matplotlib](https://scipy-lectures.github.io/intro/matplotlib/matplotlib.html)"
     ]
    },
    {
     "cell_type": "heading",
     "level": 1,
     "metadata": {},
     "source": [
      "Scipy"
     ]
    },
    {
     "cell_type": "markdown",
     "metadata": {},
     "source": [
      "The `scipy` package contains various toolboxes dedicated to common issues in scientific computing. Its different submodules correspond to different applications, such as:\n",
      "* interpolation\n",
      "* integration\n",
      "* optimization\n",
      "* image processing\n",
      "* statistics\n",
      "* special functions\n",
      "* etc.\n",
      "\n",
      "`scipy` can be compared to other standard scientific-computing libraries, such as the `GSL` (GNU Scientific Library for C and C++), or Matlab\u2019s toolboxes. `scipy` is the **core** package for scientific routines in Python; it is meant to operate efficiently on numpy arrays, so that **`numpy` and `scipy` work hand in hand.**\n",
      "\n",
      "Before implementing a routine, it is worth checking if the desired data processing is not already implemented in Scipy. As non-professional programmers, scientists often tend to re-invent the wheel, which leads to buggy, non-optimal, difficult-to-share and unmaintainable code. By contrast, Scipy\u2018s routines are optimized and tested, and should therefore be used when possible.\n",
      "\n",
      "\n",
      "`scipy` is composed of task-specific sub-modules:\n",
      "\n",
      "| Package             | Function                               |\n",
      "| ------------------- | -------------------------------------- |\n",
      "| `scipy.cluster`     | Vector quantization / Kmeans           |\n",
      "| `scipy.constants`   | Physical and mathematical constants    |\n",
      "| `scipy.fftpack`     | Fourier transform                      |\n",
      "| `scipy.integrate`   | Integration routines                   |\n",
      "| `scipy.interpolate` | Interpolation                          |\n",
      "| `scipy.io`          | Data input and output                  |\n",
      "| `scipy.linalg`      | Linear algebra routines                |\n",
      "| `scipy.ndimage`     | n-dimensional image package            |\n",
      "| `scipy.odr`         | Orthogonal distance regression         |\n",
      "| `scipy.optimize`    | Optimization                           |\n",
      "| `scipy.signal`      | Signal processing                      |\n",
      "| `scipy.sparse`      | Sparse matrices                        |\n",
      "| `scipy.spatial`     | Spatial data structures and algorithms |\n",
      "| `scipy.special`     | Any special mathematical functions     |\n",
      "| `scipy.stats`       | Statistics                             |\n",
      "\n",
      "They all depend on `numpy`, but are mostly independent of each other. The standard way of importing Numpy and these Scipy modules is:\n",
      "\n",
      "```python\n",
      "import numpy as np\n",
      "from scipy import stats  # same for other sub-modules\n",
      "```\n",
      "\n",
      "The main `scipy` namespace mostly contains functions that are really `numpy` functions (try `scipy.cos` - its really `np.cos`). Those are exposed for historical reasons only; there\u2019s usually no reason to use `import scipy` in your code: instead use the `from scipy` notation."
     ]
    },
    {
     "cell_type": "heading",
     "level": 2,
     "metadata": {},
     "source": [
      "File I/O: `scipy.io`"
     ]
    },
    {
     "cell_type": "code",
     "collapsed": false,
     "input": [
      "# loading and saving matlab files\n",
      "from scipy import io as spio # name it whatever you want\n",
      "a = np.ones((3,3))\n",
      "#spio.savemat('file.mat', {'a' : a}) # savemat expects a dictionary\n",
      "#data = spio.loadmat('file.mat', struct_as_record=True)"
     ],
     "language": "python",
     "metadata": {},
     "outputs": [],
     "prompt_number": 163
    },
    {
     "cell_type": "code",
     "collapsed": false,
     "input": [
      "# scipy.misc\n",
      "from scipy import misc as spimisc\n",
      "#spimisc.imread('image.png')\n",
      "#plt.imread('image.png') # matplotlib also has a similar function"
     ],
     "language": "python",
     "metadata": {},
     "outputs": [],
     "prompt_number": 164
    },
    {
     "cell_type": "heading",
     "level": 2,
     "metadata": {},
     "source": [
      "Special Functions: `scipy.special`"
     ]
    },
    {
     "cell_type": "markdown",
     "metadata": {},
     "source": [
      "Special functions are transcendental functions. The docstring of the `scipy.special` module is well-written, so we won\u2019t list all functions here. Frequently used ones are:\n",
      "* Bessel function, such as `scipy.special.jn()` (nth integer order Bessel function)\n",
      "* Elliptic function (`scipy.special.ellipj()` for the Jacobian elliptic function, ...)\n",
      "* Gamma function: `scipy.special.gamma()`, also note `scipy.special.gammaln(` which will give the log of Gamma to a higher numerical precision.\n",
      "* Erf, the area under a Gaussian curve: `scipy.special.erf()`"
     ]
    },
    {
     "cell_type": "code",
     "collapsed": false,
     "input": [
      "from scipy import special as scispec"
     ],
     "language": "python",
     "metadata": {},
     "outputs": [],
     "prompt_number": 180
    },
    {
     "cell_type": "code",
     "collapsed": false,
     "input": [
      "scispec?"
     ],
     "language": "python",
     "metadata": {},
     "outputs": [],
     "prompt_number": 181
    },
    {
     "cell_type": "heading",
     "level": 2,
     "metadata": {},
     "source": [
      "Linear Algebra: `scipy.linalg`"
     ]
    },
    {
     "cell_type": "markdown",
     "metadata": {},
     "source": [
      "The `scipy.linalg` module provides standard linear algebra operations, relying on an underlying efficient implementation (BLAS, LAPACK)."
     ]
    },
    {
     "cell_type": "code",
     "collapsed": false,
     "input": [
      "from scipy import linalg as scilinalg"
     ],
     "language": "python",
     "metadata": {},
     "outputs": [],
     "prompt_number": 183
    },
    {
     "cell_type": "code",
     "collapsed": false,
     "input": [
      "arr = np.array([[1, 2],[3, 4]])\n",
      "linalg.det(arr)"
     ],
     "language": "python",
     "metadata": {},
     "outputs": [
      {
       "metadata": {},
       "output_type": "pyout",
       "prompt_number": 178,
       "text": [
        "-2.0"
       ]
      }
     ],
     "prompt_number": 178
    },
    {
     "cell_type": "code",
     "collapsed": false,
     "input": [
      "# SVD\n",
      "rr = np.arange(9).reshape((3, 3)) + np.diag([1, 0, 1])\n",
      "uarr, spec, vharr = linalg.svd(arr)"
     ],
     "language": "python",
     "metadata": {},
     "outputs": [],
     "prompt_number": 182
    },
    {
     "cell_type": "code",
     "collapsed": false,
     "input": [
      "scilinalg?"
     ],
     "language": "python",
     "metadata": {},
     "outputs": [],
     "prompt_number": 185
    },
    {
     "cell_type": "heading",
     "level": 2,
     "metadata": {},
     "source": [
      "Fast Fourier Transforms: `scipy.fftpack`"
     ]
    },
    {
     "cell_type": "markdown",
     "metadata": {},
     "source": [
      "[More information and worked examples](https://scipy-lectures.github.io/intro/scipy.html#fast-fourier-transforms-scipy-fftpack)"
     ]
    },
    {
     "cell_type": "code",
     "collapsed": false,
     "input": [
      "from scipy import fftpack"
     ],
     "language": "python",
     "metadata": {},
     "outputs": [],
     "prompt_number": 187
    },
    {
     "cell_type": "code",
     "collapsed": false,
     "input": [
      "fftpack?"
     ],
     "language": "python",
     "metadata": {},
     "outputs": [],
     "prompt_number": 188
    },
    {
     "cell_type": "heading",
     "level": 2,
     "metadata": {},
     "source": [
      "Optimizations and Fit: `scipy.optimize`"
     ]
    },
    {
     "cell_type": "markdown",
     "metadata": {},
     "source": [
      "[More information and worked examples](https://scipy-lectures.github.io/intro/scipy.html#optimization-and-fit-scipy-optimize)"
     ]
    },
    {
     "cell_type": "code",
     "collapsed": false,
     "input": [
      "from scipy import optimize"
     ],
     "language": "python",
     "metadata": {},
     "outputs": [],
     "prompt_number": 189
    },
    {
     "cell_type": "code",
     "collapsed": false,
     "input": [
      "optimize?"
     ],
     "language": "python",
     "metadata": {},
     "outputs": [],
     "prompt_number": 190
    },
    {
     "cell_type": "heading",
     "level": 2,
     "metadata": {},
     "source": [
      "Statistics and Random Numbers: `scipy.stats`"
     ]
    },
    {
     "cell_type": "markdown",
     "metadata": {},
     "source": [
      "The module `scipy.stats` contains statistical tools and probabilistic descriptions of random processes. Random number generators for various random process can be found in `numpy.random`."
     ]
    },
    {
     "cell_type": "code",
     "collapsed": false,
     "input": [
      "from scipy import stats as stats"
     ],
     "language": "python",
     "metadata": {},
     "outputs": [],
     "prompt_number": 203
    },
    {
     "cell_type": "code",
     "collapsed": false,
     "input": [
      "a = np.random.normal(size=10000)\n",
      "bins = np.arange(-4,5)\n",
      "bins"
     ],
     "language": "python",
     "metadata": {},
     "outputs": [
      {
       "metadata": {},
       "output_type": "pyout",
       "prompt_number": 208,
       "text": [
        "array([-4, -3, -2, -1,  0,  1,  2,  3,  4])"
       ]
      }
     ],
     "prompt_number": 208
    },
    {
     "cell_type": "code",
     "collapsed": false,
     "input": [
      "histogram = np.histogram(a, bins=bins, normed=True)[0]\n",
      "bins = 0.5*(bins[1:] + bins[:-1])\n",
      "bins"
     ],
     "language": "python",
     "metadata": {},
     "outputs": [
      {
       "metadata": {},
       "output_type": "pyout",
       "prompt_number": 209,
       "text": [
        "array([-3.5, -2.5, -1.5, -0.5,  0.5,  1.5,  2.5,  3.5])"
       ]
      }
     ],
     "prompt_number": 209
    },
    {
     "cell_type": "code",
     "collapsed": false,
     "input": [
      "b = stats.norm.pdf(bins)\n",
      "plt.plot(bins,histogram)\n",
      "plt.plot(bins,b)"
     ],
     "language": "python",
     "metadata": {},
     "outputs": [
      {
       "metadata": {},
       "output_type": "pyout",
       "prompt_number": 210,
       "text": [
        "[<matplotlib.lines.Line2D at 0x14f37400>]"
       ]
      },
      {
       "metadata": {},
       "output_type": "display_data",
       "png": "[encoded data removed]",
       "text": [
        "<matplotlib.figure.Figure at 0x14f37860>"
       ]
      }
     ],
     "prompt_number": 210
    },
    {
     "cell_type": "code",
     "collapsed": false,
     "input": [
      "stats?"
     ],
     "language": "python",
     "metadata": {},
     "outputs": [],
     "prompt_number": 193
    },
    {
     "cell_type": "code",
     "collapsed": false,
     "input": [
      "numpy.random?"
     ],
     "language": "python",
     "metadata": {},
     "outputs": [],
     "prompt_number": 194
    },
    {
     "cell_type": "heading",
     "level": 2,
     "metadata": {},
     "source": [
      "Interpolation: `scipy.interpolate`"
     ]
    },
    {
     "cell_type": "code",
     "collapsed": false,
     "input": [
      "from scipy import interpolate as interp"
     ],
     "language": "python",
     "metadata": {},
     "outputs": [],
     "prompt_number": 213
    },
    {
     "cell_type": "code",
     "collapsed": false,
     "input": [
      "interp?"
     ],
     "language": "python",
     "metadata": {},
     "outputs": [],
     "prompt_number": 214
    },
    {
     "cell_type": "heading",
     "level": 2,
     "metadata": {},
     "source": [
      "Numerical Integration: `scipy.integrate`"
     ]
    },
    {
     "cell_type": "code",
     "collapsed": false,
     "input": [
      "from scipy import integrate as integ"
     ],
     "language": "python",
     "metadata": {},
     "outputs": [],
     "prompt_number": 214
    },
    {
     "cell_type": "code",
     "collapsed": false,
     "input": [
      "integ?"
     ],
     "language": "python",
     "metadata": {},
     "outputs": []
    },
    {
     "cell_type": "heading",
     "level": 2,
     "metadata": {},
     "source": [
      "Signal Processing: `scipy.signal`"
     ]
    },
    {
     "cell_type": "code",
     "collapsed": false,
     "input": [
      "from scipy import signal as sig"
     ],
     "language": "python",
     "metadata": {},
     "outputs": [],
     "prompt_number": 211
    },
    {
     "cell_type": "code",
     "collapsed": false,
     "input": [
      "sig?"
     ],
     "language": "python",
     "metadata": {},
     "outputs": [
      {
       "output_type": "stream",
       "stream": "stdout",
       "text": [
        "Object `sig` not found.\n"
       ]
      }
     ],
     "prompt_number": 1
    },
    {
     "cell_type": "heading",
     "level": 2,
     "metadata": {},
     "source": [
      "Image Processing: `scipy:ndimage`"
     ]
    },
    {
     "cell_type": "code",
     "collapsed": false,
     "input": [
      "from scipy import ndimage as ndimg"
     ],
     "language": "python",
     "metadata": {},
     "outputs": []
    },
    {
     "cell_type": "code",
     "collapsed": false,
     "input": [
      "ndimg?"
     ],
     "language": "python",
     "metadata": {},
     "outputs": [
      {
       "output_type": "stream",
       "stream": "stdout",
       "text": [
        "Object `ndimg` not found.\n"
       ]
      }
     ],
     "prompt_number": 70
    },
    {
     "cell_type": "heading",
     "level": 1,
     "metadata": {},
     "source": [
      "Notes"
     ]
    },
    {
     "cell_type": "markdown",
     "metadata": {},
     "source": [
      "Some useful comments, links, etc for future reference."
     ]
    },
    {
     "cell_type": "markdown",
     "metadata": {},
     "source": [
      "* Clarify the \"view\" concept and how that relates to immutable/mutable property\n",
      "* Update to python3 instead?"
     ]
    },
    {
     "cell_type": "heading",
     "level": 2,
     "metadata": {},
     "source": [
      "Tutorials/Links"
     ]
    },
    {
     "cell_type": "markdown",
     "metadata": {},
     "source": [
      "Some useful tutorials Ive found/should come back to:\n",
      "\n",
      "* [Scientific Computing with Python](https://github.com/jrjohansson/scientific-python-lectures#online-read-only-versions) - A serires of lecturenotes on github\n",
      "* [Starcluster + Anaconda](http://continuum.io/blog/starcluster-anaconda) - setting up starcluster using an anaconda ami on EC2\n",
      "    * SC+Anaconda: [counting words](http://continuum.io/blog/counting-words-part-1)\n",
      "    * SC+Anaconda: [example repo](https://github.com/ContinuumIO/Examples) \n",
      "* [Scipy Advanced Lecture Notes](https://scipy-lectures.github.io/advanced/index.html) - the second part of scipy's lecture notes - advanced issues like optimization/memory management/etc.\n",
      "* [CVXPY](https://github.com/cvxgrp/cvxpy)"
     ]
    },
    {
     "cell_type": "heading",
     "level": 2,
     "metadata": {},
     "source": [
      "Extensions"
     ]
    },
    {
     "cell_type": "markdown",
     "metadata": {},
     "source": [
      "There are several useful extensions to add to your ipython experience. Below is a list of the ones I've installed so far:\n",
      "\n",
      "* [Table of contents](https://github.com/minrk/ipython_extensions#table-of-contents) - display a floating toc for easy navigation\n",
      "* [Gist](https://github.com/minrk/ipython_extensions#gist) - make a gist out of your notebook"
     ]
    },
    {
     "cell_type": "heading",
     "level": 2,
     "metadata": {},
     "source": [
      "Getting Help"
     ]
    },
    {
     "cell_type": "markdown",
     "metadata": {},
     "source": [
      "Rather than knowing all functions in Numpy and Scipy, it is important to find rapidly information throughout the documentation and the available help. Here are some ways to get information:\n",
      "\n",
      "* In Ipython, help function opens the docstring of the function. Only type the beginning of the function\u2019s name and use tab completion to display the matching functions.\n",
      "    *Note: in Ipython it is not possible to open a separated window for help and documentation; however one can always open a second Ipython shell just to display help and docstrings...\n",
      "    \n",
      "* Numpy\u2019s and Scipy\u2019s documentations can be browsed online on http://docs.scipy.org/doc. The search button is quite useful inside the reference documentation of the two packages (http://docs.scipy.org/doc/numpy/reference/ and http://docs.scipy.org/doc/scipy/reference/). Tutorials on various topics as well as the complete API with all docstrings are found on this website.\n",
      "\n",
      "* Numpy\u2019s and Scipy\u2019s documentation is enriched and updated on a regular basis by users on a wiki http://docs.scipy.org/numpy/. As a result, some docstrings are clearer or more detailed on the wiki, and you may want to read directly the documentation on the wiki instead of the official documentation website. Note that anyone can create an account on the wiki and write better documentation; this is an easy way to contribute to an open-source project and improve the tools you are using!\n",
      "\n",
      "* Scipy\u2019s cookbook http://www.scipy.org/Cookbook gives recipes on many common problems frequently encountered, such as fitting data points, solving ODE, etc.\n",
      "\n",
      "* Matplotlib\u2019s website http://matplotlib.sourceforge.net/ features a very nice gallery with a large number of plots, each of them shows both the source code and the resulting plot. This is very useful for learning by example. More standard documentation is also available.\n",
      "\n",
      "* Mayavi\u2019s website http://code.enthought.com/projects/mayavi/docs/development/html/mayavi/ also has a very nice gallery of examples http://code.enthought.com/projects/mayavi/docs/development/html/mayavi/auto/examples.html in which one can browse for different visualization solutions.\n",
      "\n",
      "Finally, two more \u201ctechnical\u201d possibilities are useful as well:\n",
      "* In Ipython, the magical function `%psearch` search for objects matching patterns. This is useful if, for example, one does not know the exact name of a function.\n",
      "\n",
      "```python\n",
      "import numpy as np\n",
      "%psearch np.diag*\n",
      "np.diag\n",
      "np.diagflat\n",
      "np.diagonal\n",
      "```\n",
      "\n",
      "* `numpy.lookfor` looks for keywords inside the docstrings of specified modules:\n",
      "\n",
      "```python\n",
      "import numpy as np\n",
      "numpy.lookfor('convolution')\n",
      "Search results for 'convolution'\n",
      "--------------------------------\n",
      "numpy.convolve\n",
      "    Returns the discrete, linear convolution of two one-dimensional\n",
      "sequences.\n",
      "numpy.bartlett\n",
      "    Return the Bartlett window.\n",
      "numpy.correlate\n",
      "    Discrete, linear correlation of two 1-dimensional sequences.\n",
      "```\n",
      "\n",
      "* If everything listed above fails (and Google doesn\u2019t have the answer)... don\u2019t despair! Write to the mailing-list suited to your problem: you should have a quick answer if you describe your problem well. Experts on scientific python often give very enlightening explanations on the mailing-list.\n",
      "    * Numpy discussion (numpy-discussion@scipy.org): all about numpy arrays, manipulating them, indexation questions, etc.\n",
      "    * SciPy Users List (scipy-user@scipy.org): scientific computing with Python, high-level data processing, in particular with the scipy package.\n",
      "    * matplotlib-users@lists.sourceforge.net for plotting with matplotlib."
     ]
    },
    {
     "cell_type": "code",
     "collapsed": false,
     "input": [],
     "language": "python",
     "metadata": {},
     "outputs": []
    }
   ],
   "metadata": {}
  }
 ]
}